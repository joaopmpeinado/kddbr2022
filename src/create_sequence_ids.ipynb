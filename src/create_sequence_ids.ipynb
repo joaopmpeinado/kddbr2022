{
 "cells": [
  {
   "cell_type": "code",
   "execution_count": 1,
   "id": "f1b865d1",
   "metadata": {},
   "outputs": [],
   "source": [
    "import os\n",
    "import pandas as pd\n",
    "import numpy as np\n",
    "from tqdm import tqdm\n",
    "import warnings"
   ]
  },
  {
   "cell_type": "code",
   "execution_count": 2,
   "id": "2c3eae00",
   "metadata": {},
   "outputs": [],
   "source": [
    "pd.set_option('display.width', 1000)\n",
    "pd.set_option('display.max_rows', 500)\n",
    "pd.set_option('display.max_columns', 500)\n",
    "warnings.filterwarnings('ignore')\n",
    "\n",
    "path = os.getcwd()"
   ]
  },
  {
   "cell_type": "code",
   "execution_count": 4,
   "id": "1e6dd9a5",
   "metadata": {},
   "outputs": [
    {
     "data": {
      "text/html": [
       "<div>\n",
       "<style scoped>\n",
       "    .dataframe tbody tr th:only-of-type {\n",
       "        vertical-align: middle;\n",
       "    }\n",
       "\n",
       "    .dataframe tbody tr th {\n",
       "        vertical-align: top;\n",
       "    }\n",
       "\n",
       "    .dataframe thead th {\n",
       "        text-align: right;\n",
       "    }\n",
       "</style>\n",
       "<table border=\"1\" class=\"dataframe\">\n",
       "  <thead>\n",
       "    <tr style=\"text-align: right;\">\n",
       "      <th></th>\n",
       "      <th>Filename</th>\n",
       "      <th>Altitude</th>\n",
       "      <th>Delta</th>\n",
       "      <th>North</th>\n",
       "      <th>East</th>\n",
       "      <th>path</th>\n",
       "      <th>next_altitude</th>\n",
       "      <th>next_path</th>\n",
       "    </tr>\n",
       "  </thead>\n",
       "  <tbody>\n",
       "    <tr>\n",
       "      <th>0</th>\n",
       "      <td>0a118184382a407bba7aef472932273e.jpg</td>\n",
       "      <td>138.308090</td>\n",
       "      <td>0.069168</td>\n",
       "      <td>0.017955</td>\n",
       "      <td>-0.760026</td>\n",
       "      <td>/home/ec2-user/SageMaker/k_project/input/train...</td>\n",
       "      <td>138.377258</td>\n",
       "      <td>/home/ec2-user/SageMaker/k_project/input/train...</td>\n",
       "    </tr>\n",
       "    <tr>\n",
       "      <th>1</th>\n",
       "      <td>1977ab8c9f9473d8594671be4ddf9e7f.jpg</td>\n",
       "      <td>138.377258</td>\n",
       "      <td>0.352982</td>\n",
       "      <td>0.415624</td>\n",
       "      <td>-0.539132</td>\n",
       "      <td>/home/ec2-user/SageMaker/k_project/input/train...</td>\n",
       "      <td>138.730240</td>\n",
       "      <td>/home/ec2-user/SageMaker/k_project/input/train...</td>\n",
       "    </tr>\n",
       "    <tr>\n",
       "      <th>2</th>\n",
       "      <td>3817157c9127b4cdb7a8d690ee72d874.jpg</td>\n",
       "      <td>138.513351</td>\n",
       "      <td>-0.205261</td>\n",
       "      <td>-0.311030</td>\n",
       "      <td>-0.910864</td>\n",
       "      <td>/home/ec2-user/SageMaker/k_project/input/train...</td>\n",
       "      <td>138.308090</td>\n",
       "      <td>/home/ec2-user/SageMaker/k_project/input/train...</td>\n",
       "    </tr>\n",
       "    <tr>\n",
       "      <th>3</th>\n",
       "      <td>fa5375df32bda8862801ea43b6358683.jpg</td>\n",
       "      <td>138.730240</td>\n",
       "      <td>0.172699</td>\n",
       "      <td>0.700283</td>\n",
       "      <td>-0.106404</td>\n",
       "      <td>/home/ec2-user/SageMaker/k_project/input/train...</td>\n",
       "      <td>138.902939</td>\n",
       "      <td>/home/ec2-user/SageMaker/k_project/input/train...</td>\n",
       "    </tr>\n",
       "    <tr>\n",
       "      <th>4</th>\n",
       "      <td>f81e516d45f7143402e9482b47248e3b.jpg</td>\n",
       "      <td>138.755569</td>\n",
       "      <td>-0.242218</td>\n",
       "      <td>-0.445744</td>\n",
       "      <td>-0.832371</td>\n",
       "      <td>/home/ec2-user/SageMaker/k_project/input/train...</td>\n",
       "      <td>138.513351</td>\n",
       "      <td>/home/ec2-user/SageMaker/k_project/input/train...</td>\n",
       "    </tr>\n",
       "  </tbody>\n",
       "</table>\n",
       "</div>"
      ],
      "text/plain": [
       "                               Filename    Altitude     Delta     North      East                                               path  next_altitude                                          next_path\n",
       "0  0a118184382a407bba7aef472932273e.jpg  138.308090  0.069168  0.017955 -0.760026  /home/ec2-user/SageMaker/k_project/input/train...     138.377258  /home/ec2-user/SageMaker/k_project/input/train...\n",
       "1  1977ab8c9f9473d8594671be4ddf9e7f.jpg  138.377258  0.352982  0.415624 -0.539132  /home/ec2-user/SageMaker/k_project/input/train...     138.730240  /home/ec2-user/SageMaker/k_project/input/train...\n",
       "2  3817157c9127b4cdb7a8d690ee72d874.jpg  138.513351 -0.205261 -0.311030 -0.910864  /home/ec2-user/SageMaker/k_project/input/train...     138.308090  /home/ec2-user/SageMaker/k_project/input/train...\n",
       "3  fa5375df32bda8862801ea43b6358683.jpg  138.730240  0.172699  0.700283 -0.106404  /home/ec2-user/SageMaker/k_project/input/train...     138.902939  /home/ec2-user/SageMaker/k_project/input/train...\n",
       "4  f81e516d45f7143402e9482b47248e3b.jpg  138.755569 -0.242218 -0.445744 -0.832371  /home/ec2-user/SageMaker/k_project/input/train...     138.513351  /home/ec2-user/SageMaker/k_project/input/train..."
      ]
     },
     "execution_count": 4,
     "metadata": {},
     "output_type": "execute_result"
    }
   ],
   "source": [
    "df = pd.read_csv(path+'/input/df_with_next.csv')\n",
    "df.head()"
   ]
  },
  {
   "cell_type": "code",
   "execution_count": 4,
   "id": "6eee21e5",
   "metadata": {},
   "outputs": [],
   "source": [
    "df['next_path_count'] = df.groupby('next_path')['Filename'].transform('count')"
   ]
  },
  {
   "cell_type": "code",
   "execution_count": 5,
   "id": "33c3a10d",
   "metadata": {},
   "outputs": [],
   "source": [
    "df = df[df.next_path_count == 1].reset_index(drop=True)"
   ]
  },
  {
   "cell_type": "code",
   "execution_count": 6,
   "id": "38655918",
   "metadata": {},
   "outputs": [],
   "source": [
    "first_filenames = df.path.values\n",
    "next_filenames = df.next_path.values\n",
    "\n",
    "begin_filenames = df[~df.path.isin(next_filenames)].path.values\n",
    "end_filenames = df[df.next_path.isnull()].path.values"
   ]
  },
  {
   "cell_type": "code",
   "execution_count": 7,
   "id": "6130cf76",
   "metadata": {},
   "outputs": [
    {
     "name": "stdout",
     "output_type": "stream",
     "text": [
      "802\n",
      "0\n"
     ]
    }
   ],
   "source": [
    "print(len(begin_filenames))\n",
    "print(len(end_filenames))"
   ]
  },
  {
   "cell_type": "code",
   "execution_count": 8,
   "id": "87f31cfb",
   "metadata": {},
   "outputs": [],
   "source": [
    "df['run_id'] = None\n",
    "df['run_seq_id'] = None"
   ]
  },
  {
   "cell_type": "code",
   "execution_count": 9,
   "id": "fa2fba5e",
   "metadata": {},
   "outputs": [],
   "source": [
    "df['next_path'] = df['next_path'].fillna('SeqEnd')"
   ]
  },
  {
   "cell_type": "code",
   "execution_count": null,
   "id": "1b5ed5af",
   "metadata": {},
   "outputs": [
    {
     "name": "stderr",
     "output_type": "stream",
     "text": [
      "  6%|▋         | 51/802 [09:47<3:18:53, 15.89s/it]"
     ]
    }
   ],
   "source": [
    "run_id = 0\n",
    "\n",
    "for init_f in tqdm(begin_filenames):\n",
    "    next_f = df.loc[df.path == init_f, 'path'].values[0]\n",
    "    next_seq_id = df.loc[df.path == init_f, 'run_seq_id'].values[0]\n",
    "\n",
    "    run_seq_id = 0\n",
    "    while ((next_f != 'SeqEnd') & (next_seq_id is None)):\n",
    "        df.loc[df.path == next_f, 'run_id'] = run_id\n",
    "        df.loc[df.path == next_f, 'run_seq_id'] = run_seq_id\n",
    "        run_seq_id += 1\n",
    "        try:\n",
    "            next_f = df.loc[df.path == next_f, 'next_path'].values[0]\n",
    "            next_seq_id = df.loc[df.path == next_f, 'run_seq_id'].values[0]\n",
    "        except:\n",
    "            next_f = 'SeqEnd'\n",
    "            next_seq_id = None\n",
    "    run_id += 1"
   ]
  },
  {
   "cell_type": "code",
   "execution_count": null,
   "id": "e555c3ec",
   "metadata": {},
   "outputs": [],
   "source": [
    "df.head(10)"
   ]
  },
  {
   "cell_type": "code",
   "execution_count": null,
   "id": "f465c3a0",
   "metadata": {},
   "outputs": [],
   "source": [
    "df[['Filename', 'Altitude', 'Delta', 'North', 'East', 'run_id', 'run_seq_id']]"
   ]
  },
  {
   "cell_type": "code",
   "execution_count": null,
   "id": "263af8ca",
   "metadata": {},
   "outputs": [],
   "source": [
    "df[['Filename', 'Altitude', 'Delta', 'North', 'East', 'run_id', 'run_seq_id']].to_csv(path+'/input/public_with_sequences.csv', index=False)"
   ]
  },
  {
   "cell_type": "markdown",
   "id": "08cc4865",
   "metadata": {},
   "source": [
    "### Rest of sequence"
   ]
  },
  {
   "cell_type": "code",
   "execution_count": 13,
   "id": "9c74b073",
   "metadata": {},
   "outputs": [],
   "source": [
    "df = pd.read_csv(path+'/input/df_with_next.csv')\n",
    "df_sequence = pd.read_csv(path+'/input/public_with_sequences.csv')"
   ]
  },
  {
   "cell_type": "code",
   "execution_count": 14,
   "id": "1e218c72",
   "metadata": {},
   "outputs": [],
   "source": [
    "df['next_path_count'] = df.groupby('next_path')['Filename'].transform('count')"
   ]
  },
  {
   "cell_type": "code",
   "execution_count": 15,
   "id": "cec785ef",
   "metadata": {},
   "outputs": [],
   "source": [
    "df_not_seq = df[df.next_path_count > 1]"
   ]
  },
  {
   "cell_type": "code",
   "execution_count": 17,
   "id": "8e858291",
   "metadata": {},
   "outputs": [
    {
     "data": {
      "text/html": [
       "<div>\n",
       "<style scoped>\n",
       "    .dataframe tbody tr th:only-of-type {\n",
       "        vertical-align: middle;\n",
       "    }\n",
       "\n",
       "    .dataframe tbody tr th {\n",
       "        vertical-align: top;\n",
       "    }\n",
       "\n",
       "    .dataframe thead th {\n",
       "        text-align: right;\n",
       "    }\n",
       "</style>\n",
       "<table border=\"1\" class=\"dataframe\">\n",
       "  <thead>\n",
       "    <tr style=\"text-align: right;\">\n",
       "      <th></th>\n",
       "      <th>Filename</th>\n",
       "      <th>Altitude</th>\n",
       "      <th>Delta</th>\n",
       "      <th>North</th>\n",
       "      <th>East</th>\n",
       "      <th>path</th>\n",
       "      <th>next_altitude</th>\n",
       "      <th>next_path</th>\n",
       "      <th>next_path_count</th>\n",
       "    </tr>\n",
       "  </thead>\n",
       "  <tbody>\n",
       "    <tr>\n",
       "      <th>349</th>\n",
       "      <td>8b49217b4e704d2c40e5908ebd53eda5.jpg</td>\n",
       "      <td>141.177338</td>\n",
       "      <td>0.002945</td>\n",
       "      <td>-0.016418</td>\n",
       "      <td>0.009076</td>\n",
       "      <td>/home/ec2-user/SageMaker/k_project/input/train...</td>\n",
       "      <td>141.180283</td>\n",
       "      <td>/home/ec2-user/SageMaker/k_project/input/train...</td>\n",
       "      <td>2.0</td>\n",
       "    </tr>\n",
       "    <tr>\n",
       "      <th>365</th>\n",
       "      <td>92cdc3666b7883ebeed2973e70725bb1.jpg</td>\n",
       "      <td>141.180191</td>\n",
       "      <td>0.002838</td>\n",
       "      <td>-0.017143</td>\n",
       "      <td>0.009482</td>\n",
       "      <td>/home/ec2-user/SageMaker/k_project/input/train...</td>\n",
       "      <td>141.183029</td>\n",
       "      <td>/home/ec2-user/SageMaker/k_project/input/train...</td>\n",
       "      <td>2.0</td>\n",
       "    </tr>\n",
       "    <tr>\n",
       "      <th>383</th>\n",
       "      <td>0291fd85422559cef53644838ad97856.jpg</td>\n",
       "      <td>141.182800</td>\n",
       "      <td>-0.003235</td>\n",
       "      <td>-0.015926</td>\n",
       "      <td>0.008802</td>\n",
       "      <td>/home/ec2-user/SageMaker/k_project/input/train...</td>\n",
       "      <td>141.179565</td>\n",
       "      <td>/home/ec2-user/SageMaker/k_project/input/train...</td>\n",
       "      <td>2.0</td>\n",
       "    </tr>\n",
       "    <tr>\n",
       "      <th>404</th>\n",
       "      <td>79b76a2914b0e5d228c7ad1ab7e700c2.jpg</td>\n",
       "      <td>141.185776</td>\n",
       "      <td>-0.006210</td>\n",
       "      <td>-0.032545</td>\n",
       "      <td>0.017985</td>\n",
       "      <td>/home/ec2-user/SageMaker/k_project/input/train...</td>\n",
       "      <td>141.179565</td>\n",
       "      <td>/home/ec2-user/SageMaker/k_project/input/train...</td>\n",
       "      <td>2.0</td>\n",
       "    </tr>\n",
       "    <tr>\n",
       "      <th>417</th>\n",
       "      <td>95616f3aeb1feb9c4afb8768c0997527.jpg</td>\n",
       "      <td>141.186539</td>\n",
       "      <td>-0.000168</td>\n",
       "      <td>-0.000171</td>\n",
       "      <td>0.000094</td>\n",
       "      <td>/home/ec2-user/SageMaker/k_project/input/train...</td>\n",
       "      <td>141.186371</td>\n",
       "      <td>/home/ec2-user/SageMaker/k_project/input/train...</td>\n",
       "      <td>2.0</td>\n",
       "    </tr>\n",
       "  </tbody>\n",
       "</table>\n",
       "</div>"
      ],
      "text/plain": [
       "                                 Filename    Altitude     Delta     North      East                                               path  next_altitude                                          next_path  next_path_count\n",
       "349  8b49217b4e704d2c40e5908ebd53eda5.jpg  141.177338  0.002945 -0.016418  0.009076  /home/ec2-user/SageMaker/k_project/input/train...     141.180283  /home/ec2-user/SageMaker/k_project/input/train...              2.0\n",
       "365  92cdc3666b7883ebeed2973e70725bb1.jpg  141.180191  0.002838 -0.017143  0.009482  /home/ec2-user/SageMaker/k_project/input/train...     141.183029  /home/ec2-user/SageMaker/k_project/input/train...              2.0\n",
       "383  0291fd85422559cef53644838ad97856.jpg  141.182800 -0.003235 -0.015926  0.008802  /home/ec2-user/SageMaker/k_project/input/train...     141.179565  /home/ec2-user/SageMaker/k_project/input/train...              2.0\n",
       "404  79b76a2914b0e5d228c7ad1ab7e700c2.jpg  141.185776 -0.006210 -0.032545  0.017985  /home/ec2-user/SageMaker/k_project/input/train...     141.179565  /home/ec2-user/SageMaker/k_project/input/train...              2.0\n",
       "417  95616f3aeb1feb9c4afb8768c0997527.jpg  141.186539 -0.000168 -0.000171  0.000094  /home/ec2-user/SageMaker/k_project/input/train...     141.186371  /home/ec2-user/SageMaker/k_project/input/train...              2.0"
      ]
     },
     "execution_count": 17,
     "metadata": {},
     "output_type": "execute_result"
    }
   ],
   "source": [
    "df_not_seq.head(5)"
   ]
  },
  {
   "cell_type": "code",
   "execution_count": 18,
   "id": "b65dc37c",
   "metadata": {},
   "outputs": [],
   "source": [
    "next_path_filenames = df_not_seq.next_path.unique()"
   ]
  },
  {
   "cell_type": "code",
   "execution_count": 20,
   "id": "211c5d51",
   "metadata": {},
   "outputs": [
    {
     "data": {
      "text/plain": [
       "801.0"
      ]
     },
     "execution_count": 20,
     "metadata": {},
     "output_type": "execute_result"
    }
   ],
   "source": [
    "run_id = df_sequence.run_id.max()\n",
    "run_id"
   ]
  },
  {
   "cell_type": "code",
   "execution_count": 21,
   "id": "7ac7a5ee",
   "metadata": {},
   "outputs": [
    {
     "name": "stderr",
     "output_type": "stream",
     "text": [
      "100%|██████████| 480/480 [00:00<00:00, 938.45it/s]\n"
     ]
    }
   ],
   "source": [
    "for init_f in tqdm(next_path_filenames):\n",
    "    run_id += 1\n",
    "    df_not_seq.loc[df_not_seq.next_path == init_f, 'run_id'] = run_id\n",
    "    seq_filenames = df_not_seq.loc[df_not_seq.next_path == init_f, 'path'].sort_values().values\n",
    "    run_seq_id = 0\n",
    "    for seq_file in seq_filenames:\n",
    "        df_not_seq.loc[df_not_seq.path == seq_file, 'run_seq_id'] = run_seq_id\n",
    "        run_seq_id += 1"
   ]
  },
  {
   "cell_type": "code",
   "execution_count": 23,
   "id": "f76fcbeb",
   "metadata": {},
   "outputs": [],
   "source": [
    "df_not_seq = df_not_seq[['Filename', 'Altitude', 'Delta', 'North', 'East', 'run_id', 'run_seq_id']]"
   ]
  },
  {
   "cell_type": "code",
   "execution_count": 25,
   "id": "22eb2a6f",
   "metadata": {},
   "outputs": [],
   "source": [
    "df_sequence_final = pd.concat([df_sequence, df_not_seq])"
   ]
  },
  {
   "cell_type": "code",
   "execution_count": 37,
   "id": "6499c625",
   "metadata": {},
   "outputs": [
    {
     "data": {
      "text/html": [
       "<div>\n",
       "<style scoped>\n",
       "    .dataframe tbody tr th:only-of-type {\n",
       "        vertical-align: middle;\n",
       "    }\n",
       "\n",
       "    .dataframe tbody tr th {\n",
       "        vertical-align: top;\n",
       "    }\n",
       "\n",
       "    .dataframe thead th {\n",
       "        text-align: right;\n",
       "    }\n",
       "</style>\n",
       "<table border=\"1\" class=\"dataframe\">\n",
       "  <thead>\n",
       "    <tr style=\"text-align: right;\">\n",
       "      <th></th>\n",
       "      <th>Filename</th>\n",
       "      <th>Altitude</th>\n",
       "      <th>Delta</th>\n",
       "      <th>North</th>\n",
       "      <th>East</th>\n",
       "      <th>run_id</th>\n",
       "      <th>run_seq_id</th>\n",
       "    </tr>\n",
       "  </thead>\n",
       "  <tbody>\n",
       "    <tr>\n",
       "      <th>355</th>\n",
       "      <td>dcf05231c492569270f19d3f1780e475.jpg</td>\n",
       "      <td>141.179565</td>\n",
       "      <td>-0.002914</td>\n",
       "      <td>-0.016980</td>\n",
       "      <td>0.009377</td>\n",
       "      <td>0.0</td>\n",
       "      <td>0.0</td>\n",
       "    </tr>\n",
       "    <tr>\n",
       "      <th>340</th>\n",
       "      <td>1c6ae2e3522e87b5f0eba1e226dc5029.jpg</td>\n",
       "      <td>141.176651</td>\n",
       "      <td>0.019150</td>\n",
       "      <td>-0.099345</td>\n",
       "      <td>0.054884</td>\n",
       "      <td>0.0</td>\n",
       "      <td>1.0</td>\n",
       "    </tr>\n",
       "    <tr>\n",
       "      <th>450</th>\n",
       "      <td>43542e3a42df9043e6a500e1c2564fc6.jpg</td>\n",
       "      <td>141.195801</td>\n",
       "      <td>-0.022507</td>\n",
       "      <td>-0.115461</td>\n",
       "      <td>0.063855</td>\n",
       "      <td>0.0</td>\n",
       "      <td>2.0</td>\n",
       "    </tr>\n",
       "    <tr>\n",
       "      <th>327</th>\n",
       "      <td>8fad6d7e58542a344408f83a0a73e11b.jpg</td>\n",
       "      <td>141.173294</td>\n",
       "      <td>0.000977</td>\n",
       "      <td>-0.000265</td>\n",
       "      <td>0.000146</td>\n",
       "      <td>0.0</td>\n",
       "      <td>3.0</td>\n",
       "    </tr>\n",
       "    <tr>\n",
       "      <th>336</th>\n",
       "      <td>9293eb98abb2abe316a3598a83c70514.jpg</td>\n",
       "      <td>141.174271</td>\n",
       "      <td>-0.004089</td>\n",
       "      <td>-0.016188</td>\n",
       "      <td>0.008945</td>\n",
       "      <td>0.0</td>\n",
       "      <td>4.0</td>\n",
       "    </tr>\n",
       "    <tr>\n",
       "      <th>...</th>\n",
       "      <td>...</td>\n",
       "      <td>...</td>\n",
       "      <td>...</td>\n",
       "      <td>...</td>\n",
       "      <td>...</td>\n",
       "      <td>...</td>\n",
       "      <td>...</td>\n",
       "    </tr>\n",
       "    <tr>\n",
       "      <th>115380</th>\n",
       "      <td>3588e57c66a6dee6c900b58404697749.jpg</td>\n",
       "      <td>205.133942</td>\n",
       "      <td>-0.000519</td>\n",
       "      <td>-0.069345</td>\n",
       "      <td>0.110373</td>\n",
       "      <td>NaN</td>\n",
       "      <td>NaN</td>\n",
       "    </tr>\n",
       "    <tr>\n",
       "      <th>119301</th>\n",
       "      <td>7ffc2fa46fbc98fb9794db5e1f7d4896.jpg</td>\n",
       "      <td>207.206390</td>\n",
       "      <td>-0.000244</td>\n",
       "      <td>0.093526</td>\n",
       "      <td>0.276666</td>\n",
       "      <td>NaN</td>\n",
       "      <td>NaN</td>\n",
       "    </tr>\n",
       "    <tr>\n",
       "      <th>119357</th>\n",
       "      <td>9ad869837fac24698bc56ead9e0dae24.jpg</td>\n",
       "      <td>207.219910</td>\n",
       "      <td>-0.000244</td>\n",
       "      <td>0.097634</td>\n",
       "      <td>0.265782</td>\n",
       "      <td>NaN</td>\n",
       "      <td>NaN</td>\n",
       "    </tr>\n",
       "    <tr>\n",
       "      <th>119376</th>\n",
       "      <td>7f8e971121fea7afbe5297935b4546ea.jpg</td>\n",
       "      <td>207.224152</td>\n",
       "      <td>-0.000275</td>\n",
       "      <td>0.107426</td>\n",
       "      <td>0.281032</td>\n",
       "      <td>NaN</td>\n",
       "      <td>NaN</td>\n",
       "    </tr>\n",
       "    <tr>\n",
       "      <th>119411</th>\n",
       "      <td>76e2b617370467620ac2c60334533cac.jpg</td>\n",
       "      <td>207.233047</td>\n",
       "      <td>-0.000259</td>\n",
       "      <td>0.114466</td>\n",
       "      <td>0.268597</td>\n",
       "      <td>NaN</td>\n",
       "      <td>NaN</td>\n",
       "    </tr>\n",
       "  </tbody>\n",
       "</table>\n",
       "<p>145898 rows × 7 columns</p>\n",
       "</div>"
      ],
      "text/plain": [
       "                                    Filename    Altitude     Delta     North      East  run_id  run_seq_id\n",
       "355     dcf05231c492569270f19d3f1780e475.jpg  141.179565 -0.002914 -0.016980  0.009377     0.0         0.0\n",
       "340     1c6ae2e3522e87b5f0eba1e226dc5029.jpg  141.176651  0.019150 -0.099345  0.054884     0.0         1.0\n",
       "450     43542e3a42df9043e6a500e1c2564fc6.jpg  141.195801 -0.022507 -0.115461  0.063855     0.0         2.0\n",
       "327     8fad6d7e58542a344408f83a0a73e11b.jpg  141.173294  0.000977 -0.000265  0.000146     0.0         3.0\n",
       "336     9293eb98abb2abe316a3598a83c70514.jpg  141.174271 -0.004089 -0.016188  0.008945     0.0         4.0\n",
       "...                                      ...         ...       ...       ...       ...     ...         ...\n",
       "115380  3588e57c66a6dee6c900b58404697749.jpg  205.133942 -0.000519 -0.069345  0.110373     NaN         NaN\n",
       "119301  7ffc2fa46fbc98fb9794db5e1f7d4896.jpg  207.206390 -0.000244  0.093526  0.276666     NaN         NaN\n",
       "119357  9ad869837fac24698bc56ead9e0dae24.jpg  207.219910 -0.000244  0.097634  0.265782     NaN         NaN\n",
       "119376  7f8e971121fea7afbe5297935b4546ea.jpg  207.224152 -0.000275  0.107426  0.281032     NaN         NaN\n",
       "119411  76e2b617370467620ac2c60334533cac.jpg  207.233047 -0.000259  0.114466  0.268597     NaN         NaN\n",
       "\n",
       "[145898 rows x 7 columns]"
      ]
     },
     "execution_count": 37,
     "metadata": {},
     "output_type": "execute_result"
    }
   ],
   "source": [
    "df_sequence_final.sort_values(by=['run_id', 'run_seq_id'])"
   ]
  },
  {
   "cell_type": "code",
   "execution_count": 35,
   "id": "af481883",
   "metadata": {},
   "outputs": [],
   "source": [
    "pb = pd.read_csv(path+'/input/public.csv')"
   ]
  },
  {
   "cell_type": "code",
   "execution_count": 36,
   "id": "d57b9bf8",
   "metadata": {},
   "outputs": [],
   "source": [
    "isolated_df = pb[~pb.Filename.isin(df_sequence_final.Filename)].reset_index(drop=True)"
   ]
  },
  {
   "cell_type": "code",
   "execution_count": 38,
   "id": "bac329fb",
   "metadata": {},
   "outputs": [],
   "source": [
    "isolated_df['run_id'] = np.nan\n",
    "isolated_df['run_seq_id'] = np.nan"
   ]
  },
  {
   "cell_type": "code",
   "execution_count": 39,
   "id": "bcb55dbb",
   "metadata": {},
   "outputs": [],
   "source": [
    "df_sequence_final = pd.concat([df_sequence_final, isolated_df])"
   ]
  },
  {
   "cell_type": "code",
   "execution_count": 44,
   "id": "46179ccc",
   "metadata": {},
   "outputs": [],
   "source": [
    "df_sequence_final = df_sequence_final.reset_index(drop=True)"
   ]
  },
  {
   "cell_type": "code",
   "execution_count": 46,
   "id": "1eb60ca2",
   "metadata": {},
   "outputs": [],
   "source": [
    "left_path_filenames = df_sequence_final[df_sequence_final.run_id.isnull()].Filename.unique()"
   ]
  },
  {
   "cell_type": "code",
   "execution_count": 47,
   "id": "4a7da836",
   "metadata": {},
   "outputs": [],
   "source": [
    "run_id = df_sequence_final.run_id.max()"
   ]
  },
  {
   "cell_type": "code",
   "execution_count": 48,
   "id": "0f03638b",
   "metadata": {},
   "outputs": [
    {
     "name": "stderr",
     "output_type": "stream",
     "text": [
      "100%|██████████| 381/381 [00:03<00:00, 106.95it/s]\n"
     ]
    }
   ],
   "source": [
    "for init_f in tqdm(left_path_filenames):\n",
    "    run_id += 1\n",
    "    df_sequence_final.loc[df_sequence_final.Filename == init_f, 'run_id'] = run_id\n",
    "    run_seq_id = 0\n",
    "    df_sequence_final.loc[df_sequence_final.Filename == init_f, 'run_seq_id'] = run_seq_id"
   ]
  },
  {
   "cell_type": "code",
   "execution_count": 49,
   "id": "3232530f",
   "metadata": {},
   "outputs": [
    {
     "data": {
      "text/html": [
       "<div>\n",
       "<style scoped>\n",
       "    .dataframe tbody tr th:only-of-type {\n",
       "        vertical-align: middle;\n",
       "    }\n",
       "\n",
       "    .dataframe tbody tr th {\n",
       "        vertical-align: top;\n",
       "    }\n",
       "\n",
       "    .dataframe thead th {\n",
       "        text-align: right;\n",
       "    }\n",
       "</style>\n",
       "<table border=\"1\" class=\"dataframe\">\n",
       "  <thead>\n",
       "    <tr style=\"text-align: right;\">\n",
       "      <th></th>\n",
       "      <th>Filename</th>\n",
       "      <th>Altitude</th>\n",
       "      <th>Delta</th>\n",
       "      <th>North</th>\n",
       "      <th>East</th>\n",
       "      <th>run_id</th>\n",
       "      <th>run_seq_id</th>\n",
       "    </tr>\n",
       "  </thead>\n",
       "  <tbody>\n",
       "    <tr>\n",
       "      <th>0</th>\n",
       "      <td>0a118184382a407bba7aef472932273e.jpg</td>\n",
       "      <td>138.308090</td>\n",
       "      <td>0.069168</td>\n",
       "      <td>0.017955</td>\n",
       "      <td>-0.760026</td>\n",
       "      <td>32.0</td>\n",
       "      <td>126.0</td>\n",
       "    </tr>\n",
       "    <tr>\n",
       "      <th>1</th>\n",
       "      <td>1977ab8c9f9473d8594671be4ddf9e7f.jpg</td>\n",
       "      <td>138.377258</td>\n",
       "      <td>0.352982</td>\n",
       "      <td>0.415624</td>\n",
       "      <td>-0.539132</td>\n",
       "      <td>32.0</td>\n",
       "      <td>127.0</td>\n",
       "    </tr>\n",
       "    <tr>\n",
       "      <th>2</th>\n",
       "      <td>3817157c9127b4cdb7a8d690ee72d874.jpg</td>\n",
       "      <td>138.513351</td>\n",
       "      <td>-0.205261</td>\n",
       "      <td>-0.311030</td>\n",
       "      <td>-0.910864</td>\n",
       "      <td>32.0</td>\n",
       "      <td>125.0</td>\n",
       "    </tr>\n",
       "    <tr>\n",
       "      <th>3</th>\n",
       "      <td>fa5375df32bda8862801ea43b6358683.jpg</td>\n",
       "      <td>138.730240</td>\n",
       "      <td>0.172699</td>\n",
       "      <td>0.700283</td>\n",
       "      <td>-0.106404</td>\n",
       "      <td>32.0</td>\n",
       "      <td>128.0</td>\n",
       "    </tr>\n",
       "    <tr>\n",
       "      <th>4</th>\n",
       "      <td>f81e516d45f7143402e9482b47248e3b.jpg</td>\n",
       "      <td>138.755569</td>\n",
       "      <td>-0.242218</td>\n",
       "      <td>-0.445744</td>\n",
       "      <td>-0.832371</td>\n",
       "      <td>32.0</td>\n",
       "      <td>124.0</td>\n",
       "    </tr>\n",
       "    <tr>\n",
       "      <th>...</th>\n",
       "      <td>...</td>\n",
       "      <td>...</td>\n",
       "      <td>...</td>\n",
       "      <td>...</td>\n",
       "      <td>...</td>\n",
       "      <td>...</td>\n",
       "      <td>...</td>\n",
       "    </tr>\n",
       "    <tr>\n",
       "      <th>146257</th>\n",
       "      <td>fc65c23ae61ce2c6fdbc637a8296d1d7.jpg</td>\n",
       "      <td>199.826904</td>\n",
       "      <td>0.232056</td>\n",
       "      <td>NaN</td>\n",
       "      <td>NaN</td>\n",
       "      <td>1658.0</td>\n",
       "      <td>0.0</td>\n",
       "    </tr>\n",
       "    <tr>\n",
       "      <th>146258</th>\n",
       "      <td>fc6c0d99ec42bad5e2d5fbb1e71c5a50.jpg</td>\n",
       "      <td>216.407486</td>\n",
       "      <td>0.102585</td>\n",
       "      <td>NaN</td>\n",
       "      <td>NaN</td>\n",
       "      <td>1659.0</td>\n",
       "      <td>0.0</td>\n",
       "    </tr>\n",
       "    <tr>\n",
       "      <th>146259</th>\n",
       "      <td>fdbb732633c6a3d32a67fc56edc7cde4.jpg</td>\n",
       "      <td>191.262970</td>\n",
       "      <td>0.053955</td>\n",
       "      <td>NaN</td>\n",
       "      <td>NaN</td>\n",
       "      <td>1660.0</td>\n",
       "      <td>0.0</td>\n",
       "    </tr>\n",
       "    <tr>\n",
       "      <th>146260</th>\n",
       "      <td>feac1b902c7487dcbdf298bd4be75690.jpg</td>\n",
       "      <td>210.220703</td>\n",
       "      <td>-0.028854</td>\n",
       "      <td>NaN</td>\n",
       "      <td>NaN</td>\n",
       "      <td>1661.0</td>\n",
       "      <td>0.0</td>\n",
       "    </tr>\n",
       "    <tr>\n",
       "      <th>146261</th>\n",
       "      <td>ff76ffce183c11f84489bbd0a34a2fcf.jpg</td>\n",
       "      <td>194.801300</td>\n",
       "      <td>-0.043518</td>\n",
       "      <td>NaN</td>\n",
       "      <td>NaN</td>\n",
       "      <td>1662.0</td>\n",
       "      <td>0.0</td>\n",
       "    </tr>\n",
       "  </tbody>\n",
       "</table>\n",
       "<p>146262 rows × 7 columns</p>\n",
       "</div>"
      ],
      "text/plain": [
       "                                    Filename    Altitude     Delta     North      East  run_id  run_seq_id\n",
       "0       0a118184382a407bba7aef472932273e.jpg  138.308090  0.069168  0.017955 -0.760026    32.0       126.0\n",
       "1       1977ab8c9f9473d8594671be4ddf9e7f.jpg  138.377258  0.352982  0.415624 -0.539132    32.0       127.0\n",
       "2       3817157c9127b4cdb7a8d690ee72d874.jpg  138.513351 -0.205261 -0.311030 -0.910864    32.0       125.0\n",
       "3       fa5375df32bda8862801ea43b6358683.jpg  138.730240  0.172699  0.700283 -0.106404    32.0       128.0\n",
       "4       f81e516d45f7143402e9482b47248e3b.jpg  138.755569 -0.242218 -0.445744 -0.832371    32.0       124.0\n",
       "...                                      ...         ...       ...       ...       ...     ...         ...\n",
       "146257  fc65c23ae61ce2c6fdbc637a8296d1d7.jpg  199.826904  0.232056       NaN       NaN  1658.0         0.0\n",
       "146258  fc6c0d99ec42bad5e2d5fbb1e71c5a50.jpg  216.407486  0.102585       NaN       NaN  1659.0         0.0\n",
       "146259  fdbb732633c6a3d32a67fc56edc7cde4.jpg  191.262970  0.053955       NaN       NaN  1660.0         0.0\n",
       "146260  feac1b902c7487dcbdf298bd4be75690.jpg  210.220703 -0.028854       NaN       NaN  1661.0         0.0\n",
       "146261  ff76ffce183c11f84489bbd0a34a2fcf.jpg  194.801300 -0.043518       NaN       NaN  1662.0         0.0\n",
       "\n",
       "[146262 rows x 7 columns]"
      ]
     },
     "execution_count": 49,
     "metadata": {},
     "output_type": "execute_result"
    }
   ],
   "source": [
    "df_sequence_final"
   ]
  },
  {
   "cell_type": "code",
   "execution_count": 50,
   "id": "06719c41",
   "metadata": {},
   "outputs": [],
   "source": [
    "df_sequence_final.to_csv(path+'/input/public_with_sequences_final.csv', index=False)"
   ]
  },
  {
   "cell_type": "code",
   "execution_count": null,
   "id": "e5ca262e",
   "metadata": {},
   "outputs": [],
   "source": []
  }
 ],
 "metadata": {
  "kernelspec": {
   "display_name": "Python 3.9.13 ('.kaggle_env': venv)",
   "language": "python",
   "name": "python3"
  },
  "language_info": {
   "codemirror_mode": {
    "name": "ipython",
    "version": 3
   },
   "file_extension": ".py",
   "mimetype": "text/x-python",
   "name": "python",
   "nbconvert_exporter": "python",
   "pygments_lexer": "ipython3",
   "version": "3.9.13"
  },
  "vscode": {
   "interpreter": {
    "hash": "0345ab29092b886eef8a43fa95a1d09d6609882eaf434e84db1e8f5ae4c120d2"
   }
  }
 },
 "nbformat": 4,
 "nbformat_minor": 5
}
