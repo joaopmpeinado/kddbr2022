{
 "cells": [
  {
   "cell_type": "code",
   "execution_count": 1,
   "id": "9b6aaa39",
   "metadata": {},
   "outputs": [],
   "source": [
    "import numpy as np # linear algebra\n",
    "import pandas as pd # data processing, CSV file I/O (e.g. pd.read_csv)\n",
    "\n",
    "import os\n",
    "from sewar.full_ref import vifp\n",
    "\n",
    "import PIL.Image\n",
    "import cv2\n",
    "from os import listdir\n",
    "from tqdm import tqdm\n",
    "import warnings\n",
    "import multiprocessing as mp\n",
    "import logging"
   ]
  },
  {
   "cell_type": "code",
   "execution_count": 2,
   "id": "50d5423d",
   "metadata": {},
   "outputs": [],
   "source": [
    "logger = logging.getLogger()\n",
    "fhandler = logging.FileHandler(filename='execution_log.log', mode='a')\n",
    "formatter = logging.Formatter('%(asctime)s - %(name)s - %(lineno)s - %(levelname)s - %(message)s')\n",
    "fhandler.setFormatter(formatter)\n",
    "logger.addHandler(fhandler)"
   ]
  },
  {
   "cell_type": "code",
   "execution_count": 3,
   "id": "3c50d3bb",
   "metadata": {},
   "outputs": [],
   "source": [
    "pd.set_option('display.width', 1000)\n",
    "pd.set_option('display.max_rows', 500)\n",
    "pd.set_option('display.max_columns', 500)\n",
    "warnings.filterwarnings('ignore')"
   ]
  },
  {
   "cell_type": "code",
   "execution_count": 4,
   "id": "38b2d5aa",
   "metadata": {},
   "outputs": [],
   "source": [
    "path = os.getcwd()\n",
    "path = path+'/input/'\n"
   ]
  },
  {
   "cell_type": "code",
   "execution_count": 5,
   "id": "5e36fe38",
   "metadata": {},
   "outputs": [],
   "source": [
    "df = pd.read_csv(path+'public.csv')"
   ]
  },
  {
   "cell_type": "code",
   "execution_count": 6,
   "id": "09c7e8eb",
   "metadata": {},
   "outputs": [],
   "source": [
    "df['path'] = df['Filename'].map(lambda x: path+'train/train/'+x)\n",
    "df.loc[df.North.isnull(), 'path'] = df.loc[df.North.isnull(), 'Filename'].map(lambda x: path+'test/test/'+x)"
   ]
  },
  {
   "cell_type": "code",
   "execution_count": 7,
   "id": "17b69bcf",
   "metadata": {},
   "outputs": [
    {
     "data": {
      "text/html": [
       "<div>\n",
       "<style scoped>\n",
       "    .dataframe tbody tr th:only-of-type {\n",
       "        vertical-align: middle;\n",
       "    }\n",
       "\n",
       "    .dataframe tbody tr th {\n",
       "        vertical-align: top;\n",
       "    }\n",
       "\n",
       "    .dataframe thead th {\n",
       "        text-align: right;\n",
       "    }\n",
       "</style>\n",
       "<table border=\"1\" class=\"dataframe\">\n",
       "  <thead>\n",
       "    <tr style=\"text-align: right;\">\n",
       "      <th></th>\n",
       "      <th>Filename</th>\n",
       "      <th>Altitude</th>\n",
       "      <th>Delta</th>\n",
       "      <th>North</th>\n",
       "      <th>East</th>\n",
       "      <th>path</th>\n",
       "    </tr>\n",
       "  </thead>\n",
       "  <tbody>\n",
       "    <tr>\n",
       "      <th>0</th>\n",
       "      <td>00003e3b9e5336685200ae85d21b4f5e.jpg</td>\n",
       "      <td>178.829834</td>\n",
       "      <td>-0.065231</td>\n",
       "      <td>-0.386045</td>\n",
       "      <td>0.929772</td>\n",
       "      <td>/home/ec2-user/SageMaker/k_project/input/train...</td>\n",
       "    </tr>\n",
       "    <tr>\n",
       "      <th>1</th>\n",
       "      <td>0001261e2060303a06ba6c64d676d639.jpg</td>\n",
       "      <td>207.921478</td>\n",
       "      <td>-0.080688</td>\n",
       "      <td>0.635584</td>\n",
       "      <td>0.152819</td>\n",
       "      <td>/home/ec2-user/SageMaker/k_project/input/train...</td>\n",
       "    </tr>\n",
       "    <tr>\n",
       "      <th>2</th>\n",
       "      <td>0002ac0d783338cfeab0b2bdbd872cda.jpg</td>\n",
       "      <td>178.048431</td>\n",
       "      <td>0.021576</td>\n",
       "      <td>-1.228229</td>\n",
       "      <td>-0.499388</td>\n",
       "      <td>/home/ec2-user/SageMaker/k_project/input/train...</td>\n",
       "    </tr>\n",
       "    <tr>\n",
       "      <th>3</th>\n",
       "      <td>0004289ee1c7b8b08c77e19878106ae3.jpg</td>\n",
       "      <td>201.084625</td>\n",
       "      <td>0.505981</td>\n",
       "      <td>-1.739709</td>\n",
       "      <td>-0.699928</td>\n",
       "      <td>/home/ec2-user/SageMaker/k_project/input/train...</td>\n",
       "    </tr>\n",
       "    <tr>\n",
       "      <th>4</th>\n",
       "      <td>0004d0b59e19461ff126e3a08a814c33.jpg</td>\n",
       "      <td>187.550201</td>\n",
       "      <td>-0.328156</td>\n",
       "      <td>-0.169798</td>\n",
       "      <td>2.828752</td>\n",
       "      <td>/home/ec2-user/SageMaker/k_project/input/train...</td>\n",
       "    </tr>\n",
       "  </tbody>\n",
       "</table>\n",
       "</div>"
      ],
      "text/plain": [
       "                               Filename    Altitude     Delta     North      East                                               path\n",
       "0  00003e3b9e5336685200ae85d21b4f5e.jpg  178.829834 -0.065231 -0.386045  0.929772  /home/ec2-user/SageMaker/k_project/input/train...\n",
       "1  0001261e2060303a06ba6c64d676d639.jpg  207.921478 -0.080688  0.635584  0.152819  /home/ec2-user/SageMaker/k_project/input/train...\n",
       "2  0002ac0d783338cfeab0b2bdbd872cda.jpg  178.048431  0.021576 -1.228229 -0.499388  /home/ec2-user/SageMaker/k_project/input/train...\n",
       "3  0004289ee1c7b8b08c77e19878106ae3.jpg  201.084625  0.505981 -1.739709 -0.699928  /home/ec2-user/SageMaker/k_project/input/train...\n",
       "4  0004d0b59e19461ff126e3a08a814c33.jpg  187.550201 -0.328156 -0.169798  2.828752  /home/ec2-user/SageMaker/k_project/input/train..."
      ]
     },
     "execution_count": 7,
     "metadata": {},
     "output_type": "execute_result"
    }
   ],
   "source": [
    "df.head()"
   ]
  },
  {
   "cell_type": "code",
   "execution_count": 8,
   "id": "486e63b5",
   "metadata": {},
   "outputs": [],
   "source": [
    "df = df.sort_values(by='Altitude').reset_index(drop=True)"
   ]
  },
  {
   "cell_type": "code",
   "execution_count": 9,
   "id": "f4312c54",
   "metadata": {},
   "outputs": [],
   "source": [
    "df['next_altitude'] = df['Altitude'] + df['Delta']"
   ]
  },
  {
   "cell_type": "code",
   "execution_count": 10,
   "id": "52938718",
   "metadata": {},
   "outputs": [],
   "source": [
    "def select_candidates(df, altitude, var=0.001):\n",
    "    if (df.loc[df.Altitude == altitude].shape[0] > 0):\n",
    "        return df.loc[df.Altitude == altitude, 'path'].sort_values().values\n",
    "    else:\n",
    "        return df.loc[(df.Altitude >= (altitude - var))&(df.Altitude <= (altitude + var)), 'path'].sort_values().values"
   ]
  },
  {
   "cell_type": "code",
   "execution_count": 11,
   "id": "f78f178a",
   "metadata": {},
   "outputs": [],
   "source": [
    "df['next_path'] = np.nan"
   ]
  },
  {
   "cell_type": "code",
   "execution_count": 12,
   "id": "8700f14e",
   "metadata": {},
   "outputs": [],
   "source": [
    "def run_parallel(df_line):\n",
    "    candidate_altitude = df_line.next_altitude\n",
    "    candidate_filenames = select_candidates(df, candidate_altitude)\n",
    "\n",
    "    img_now = cv2.imread(df_line.path)\n",
    "    img_now_2 = img_now[:, 120:]\n",
    "    \n",
    "    df_line.loc['next_path'] = np.nan\n",
    "    for next_path in candidate_filenames:\n",
    "        img_next = cv2.imread(next_path)\n",
    "        img_next_1 = img_next[:, :120]\n",
    "        metric = vifp(img_now_2, img_next_1)\n",
    "        if metric >= 0.5:\n",
    "            df_line.loc['next_path'] = next_path\n",
    "            break\n",
    "    return df_line"
   ]
  },
  {
   "cell_type": "code",
   "execution_count": 13,
   "id": "3f3ca64a",
   "metadata": {},
   "outputs": [
    {
     "data": {
      "text/html": [
       "<div>\n",
       "<style scoped>\n",
       "    .dataframe tbody tr th:only-of-type {\n",
       "        vertical-align: middle;\n",
       "    }\n",
       "\n",
       "    .dataframe tbody tr th {\n",
       "        vertical-align: top;\n",
       "    }\n",
       "\n",
       "    .dataframe thead th {\n",
       "        text-align: right;\n",
       "    }\n",
       "</style>\n",
       "<table border=\"1\" class=\"dataframe\">\n",
       "  <thead>\n",
       "    <tr style=\"text-align: right;\">\n",
       "      <th></th>\n",
       "      <th>Filename</th>\n",
       "      <th>Altitude</th>\n",
       "      <th>Delta</th>\n",
       "      <th>North</th>\n",
       "      <th>East</th>\n",
       "      <th>path</th>\n",
       "      <th>next_altitude</th>\n",
       "      <th>next_path</th>\n",
       "    </tr>\n",
       "  </thead>\n",
       "  <tbody>\n",
       "    <tr>\n",
       "      <th>56891</th>\n",
       "      <td>a8ae6106b51fa41d5f17865c0d958263.jpg</td>\n",
       "      <td>180.903137</td>\n",
       "      <td>-0.151062</td>\n",
       "      <td>0.332506</td>\n",
       "      <td>2.193729</td>\n",
       "      <td>/home/ec2-user/SageMaker/k_project/input/train...</td>\n",
       "      <td>180.752075</td>\n",
       "      <td>NaN</td>\n",
       "    </tr>\n",
       "    <tr>\n",
       "      <th>125633</th>\n",
       "      <td>96ade60d0d172493eb7aa33f70114378.jpg</td>\n",
       "      <td>209.406189</td>\n",
       "      <td>-0.096405</td>\n",
       "      <td>NaN</td>\n",
       "      <td>NaN</td>\n",
       "      <td>/home/ec2-user/SageMaker/k_project/input/test/...</td>\n",
       "      <td>209.309784</td>\n",
       "      <td>NaN</td>\n",
       "    </tr>\n",
       "    <tr>\n",
       "      <th>18370</th>\n",
       "      <td>453f20d0233ae9781c3b2371c31d2bec.jpg</td>\n",
       "      <td>166.134323</td>\n",
       "      <td>0.041748</td>\n",
       "      <td>NaN</td>\n",
       "      <td>NaN</td>\n",
       "      <td>/home/ec2-user/SageMaker/k_project/input/test/...</td>\n",
       "      <td>166.176071</td>\n",
       "      <td>NaN</td>\n",
       "    </tr>\n",
       "    <tr>\n",
       "      <th>66373</th>\n",
       "      <td>12401c7cd993a9a0ad39d0fb95e46877.jpg</td>\n",
       "      <td>184.051636</td>\n",
       "      <td>-0.068466</td>\n",
       "      <td>NaN</td>\n",
       "      <td>NaN</td>\n",
       "      <td>/home/ec2-user/SageMaker/k_project/input/test/...</td>\n",
       "      <td>183.983170</td>\n",
       "      <td>NaN</td>\n",
       "    </tr>\n",
       "    <tr>\n",
       "      <th>57529</th>\n",
       "      <td>5b6f6f2df2bd1f461a19c19f65161223.jpg</td>\n",
       "      <td>181.098526</td>\n",
       "      <td>0.043961</td>\n",
       "      <td>0.441885</td>\n",
       "      <td>-0.118098</td>\n",
       "      <td>/home/ec2-user/SageMaker/k_project/input/train...</td>\n",
       "      <td>181.142487</td>\n",
       "      <td>NaN</td>\n",
       "    </tr>\n",
       "    <tr>\n",
       "      <th>18455</th>\n",
       "      <td>98272a513b7e9c569b6f3640d5407d8c.jpg</td>\n",
       "      <td>166.182999</td>\n",
       "      <td>-0.005417</td>\n",
       "      <td>1.546243</td>\n",
       "      <td>1.187768</td>\n",
       "      <td>/home/ec2-user/SageMaker/k_project/input/train...</td>\n",
       "      <td>166.177582</td>\n",
       "      <td>NaN</td>\n",
       "    </tr>\n",
       "    <tr>\n",
       "      <th>88745</th>\n",
       "      <td>eed77a7948ecd4087ef931b0faac64cb.jpg</td>\n",
       "      <td>191.792328</td>\n",
       "      <td>-0.172638</td>\n",
       "      <td>0.402565</td>\n",
       "      <td>2.559834</td>\n",
       "      <td>/home/ec2-user/SageMaker/k_project/input/train...</td>\n",
       "      <td>191.619690</td>\n",
       "      <td>NaN</td>\n",
       "    </tr>\n",
       "    <tr>\n",
       "      <th>121215</th>\n",
       "      <td>42bd928eb7f73ba1a4ffee5e96616e93.jpg</td>\n",
       "      <td>206.915375</td>\n",
       "      <td>-0.293060</td>\n",
       "      <td>-0.213397</td>\n",
       "      <td>-2.433524</td>\n",
       "      <td>/home/ec2-user/SageMaker/k_project/input/train...</td>\n",
       "      <td>206.622314</td>\n",
       "      <td>NaN</td>\n",
       "    </tr>\n",
       "    <tr>\n",
       "      <th>109391</th>\n",
       "      <td>60df7a6c1b259a7353138e3b6f62383f.jpg</td>\n",
       "      <td>200.772095</td>\n",
       "      <td>0.470276</td>\n",
       "      <td>0.691502</td>\n",
       "      <td>-2.514604</td>\n",
       "      <td>/home/ec2-user/SageMaker/k_project/input/train...</td>\n",
       "      <td>201.242371</td>\n",
       "      <td>NaN</td>\n",
       "    </tr>\n",
       "    <tr>\n",
       "      <th>139297</th>\n",
       "      <td>123c5d6ad36b988ccdf849fdb679705a.jpg</td>\n",
       "      <td>219.497696</td>\n",
       "      <td>-0.020035</td>\n",
       "      <td>NaN</td>\n",
       "      <td>NaN</td>\n",
       "      <td>/home/ec2-user/SageMaker/k_project/input/test/...</td>\n",
       "      <td>219.477661</td>\n",
       "      <td>NaN</td>\n",
       "    </tr>\n",
       "  </tbody>\n",
       "</table>\n",
       "</div>"
      ],
      "text/plain": [
       "                                    Filename    Altitude     Delta     North      East                                               path  next_altitude  next_path\n",
       "56891   a8ae6106b51fa41d5f17865c0d958263.jpg  180.903137 -0.151062  0.332506  2.193729  /home/ec2-user/SageMaker/k_project/input/train...     180.752075        NaN\n",
       "125633  96ade60d0d172493eb7aa33f70114378.jpg  209.406189 -0.096405       NaN       NaN  /home/ec2-user/SageMaker/k_project/input/test/...     209.309784        NaN\n",
       "18370   453f20d0233ae9781c3b2371c31d2bec.jpg  166.134323  0.041748       NaN       NaN  /home/ec2-user/SageMaker/k_project/input/test/...     166.176071        NaN\n",
       "66373   12401c7cd993a9a0ad39d0fb95e46877.jpg  184.051636 -0.068466       NaN       NaN  /home/ec2-user/SageMaker/k_project/input/test/...     183.983170        NaN\n",
       "57529   5b6f6f2df2bd1f461a19c19f65161223.jpg  181.098526  0.043961  0.441885 -0.118098  /home/ec2-user/SageMaker/k_project/input/train...     181.142487        NaN\n",
       "18455   98272a513b7e9c569b6f3640d5407d8c.jpg  166.182999 -0.005417  1.546243  1.187768  /home/ec2-user/SageMaker/k_project/input/train...     166.177582        NaN\n",
       "88745   eed77a7948ecd4087ef931b0faac64cb.jpg  191.792328 -0.172638  0.402565  2.559834  /home/ec2-user/SageMaker/k_project/input/train...     191.619690        NaN\n",
       "121215  42bd928eb7f73ba1a4ffee5e96616e93.jpg  206.915375 -0.293060 -0.213397 -2.433524  /home/ec2-user/SageMaker/k_project/input/train...     206.622314        NaN\n",
       "109391  60df7a6c1b259a7353138e3b6f62383f.jpg  200.772095  0.470276  0.691502 -2.514604  /home/ec2-user/SageMaker/k_project/input/train...     201.242371        NaN\n",
       "139297  123c5d6ad36b988ccdf849fdb679705a.jpg  219.497696 -0.020035       NaN       NaN  /home/ec2-user/SageMaker/k_project/input/test/...     219.477661        NaN"
      ]
     },
     "execution_count": 13,
     "metadata": {},
     "output_type": "execute_result"
    }
   ],
   "source": [
    "df_to_study = df.sample(1000, random_state=123)\n",
    "df_to_study.head(10)"
   ]
  },
  {
   "cell_type": "code",
   "execution_count": 14,
   "id": "aa0f4b14",
   "metadata": {},
   "outputs": [],
   "source": [
    "pool = mp.Pool(mp.cpu_count())"
   ]
  },
  {
   "cell_type": "code",
   "execution_count": 15,
   "id": "9d1495f1",
   "metadata": {},
   "outputs": [],
   "source": [
    "logging.warning('Starting search in parallel')"
   ]
  },
  {
   "cell_type": "code",
   "execution_count": null,
   "id": "68c64938",
   "metadata": {},
   "outputs": [],
   "source": [
    "%%time\n",
    "results = pool.map(run_parallel, [row for index, row in df.iterrows()])\n",
    "pool.close()"
   ]
  },
  {
   "cell_type": "code",
   "execution_count": null,
   "id": "db2bd477",
   "metadata": {},
   "outputs": [],
   "source": [
    "logging.warning('Ending search in parallel')\n",
    "\n",
    "logging.warning('Starting concat of all results')"
   ]
  },
  {
   "cell_type": "code",
   "execution_count": null,
   "id": "9d352636",
   "metadata": {},
   "outputs": [],
   "source": [
    "df_final = pd.DataFrame()\n",
    "for df_temp in results:\n",
    "    df_final = pd.concat([df_final, pd.DataFrame([df_temp])])"
   ]
  },
  {
   "cell_type": "code",
   "execution_count": null,
   "id": "4fd8bd0a",
   "metadata": {},
   "outputs": [],
   "source": [
    "logging.warning('Ending concat of all results')"
   ]
  },
  {
   "cell_type": "code",
   "execution_count": null,
   "id": "35c620c5",
   "metadata": {},
   "outputs": [],
   "source": [
    "df_final.head()"
   ]
  },
  {
   "cell_type": "code",
   "execution_count": null,
   "id": "913522ee",
   "metadata": {},
   "outputs": [],
   "source": [
    "logging.warning('Starting save of dataframe')"
   ]
  },
  {
   "cell_type": "code",
   "execution_count": null,
   "id": "530f6dd3",
   "metadata": {},
   "outputs": [],
   "source": [
    "df_final.to_csv('df_with_next.csv', index=False)"
   ]
  },
  {
   "cell_type": "code",
   "execution_count": null,
   "id": "ac5a9aef",
   "metadata": {},
   "outputs": [],
   "source": [
    "logging.warning('Ending save of dataframe')"
   ]
  }
 ],
 "metadata": {
  "kernelspec": {
   "display_name": "Python 3.9.13 64-bit",
   "language": "python",
   "name": "python3"
  },
  "language_info": {
   "codemirror_mode": {
    "name": "ipython",
    "version": 3
   },
   "file_extension": ".py",
   "mimetype": "text/x-python",
   "name": "python",
   "nbconvert_exporter": "python",
   "pygments_lexer": "ipython3",
   "version": "3.9.13"
  },
  "vscode": {
   "interpreter": {
    "hash": "b0fa6594d8f4cbf19f97940f81e996739fb7646882a419484c72d19e05852a7e"
   }
  }
 },
 "nbformat": 4,
 "nbformat_minor": 5
}
