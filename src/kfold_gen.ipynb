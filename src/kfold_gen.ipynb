{
 "cells": [
  {
   "cell_type": "code",
   "execution_count": 1,
   "metadata": {},
   "outputs": [],
   "source": [
    "import os\n",
    "import pandas as pd\n",
    "import numpy as np\n",
    "import lightgbm as lgb\n",
    "from sklearn.model_selection import GroupKFold\n",
    "from tqdm import tqdm\n",
    "from sklearn.metrics import mean_squared_error\n",
    "import warnings"
   ]
  },
  {
   "cell_type": "code",
   "execution_count": 2,
   "metadata": {},
   "outputs": [],
   "source": [
    "pd.set_option('display.width', 1000)\n",
    "pd.set_option('display.max_rows', 500)\n",
    "pd.set_option('display.max_columns', 500)\n",
    "warnings.filterwarnings('ignore')\n",
    "\n",
    "path = os.getcwd()"
   ]
  },
  {
   "cell_type": "code",
   "execution_count": 3,
   "metadata": {},
   "outputs": [],
   "source": [
    "df = pd.read_csv(path+'/input/public_with_sequences_final.csv')\n",
    "df = df.sort_values(by=['run_id', 'run_seq_id']).reset_index(drop=True)"
   ]
  },
  {
   "cell_type": "code",
   "execution_count": 4,
   "metadata": {},
   "outputs": [],
   "source": [
    "train = df.loc[~df.North.isnull(), :].reset_index(drop=True)\n",
    "test = df.loc[df.North.isnull(), :].reset_index(drop=True)"
   ]
  },
  {
   "cell_type": "code",
   "execution_count": 5,
   "metadata": {},
   "outputs": [
    {
     "data": {
      "text/html": [
       "<div>\n",
       "<style scoped>\n",
       "    .dataframe tbody tr th:only-of-type {\n",
       "        vertical-align: middle;\n",
       "    }\n",
       "\n",
       "    .dataframe tbody tr th {\n",
       "        vertical-align: top;\n",
       "    }\n",
       "\n",
       "    .dataframe thead th {\n",
       "        text-align: right;\n",
       "    }\n",
       "</style>\n",
       "<table border=\"1\" class=\"dataframe\">\n",
       "  <thead>\n",
       "    <tr style=\"text-align: right;\">\n",
       "      <th></th>\n",
       "      <th>Filename</th>\n",
       "      <th>Altitude</th>\n",
       "      <th>Delta</th>\n",
       "      <th>North</th>\n",
       "      <th>East</th>\n",
       "      <th>run_id</th>\n",
       "      <th>run_seq_id</th>\n",
       "    </tr>\n",
       "  </thead>\n",
       "  <tbody>\n",
       "    <tr>\n",
       "      <th>0</th>\n",
       "      <td>dcf05231c492569270f19d3f1780e475.jpg</td>\n",
       "      <td>141.179565</td>\n",
       "      <td>-0.002914</td>\n",
       "      <td>-0.016980</td>\n",
       "      <td>0.009377</td>\n",
       "      <td>0.0</td>\n",
       "      <td>0.0</td>\n",
       "    </tr>\n",
       "    <tr>\n",
       "      <th>1</th>\n",
       "      <td>1c6ae2e3522e87b5f0eba1e226dc5029.jpg</td>\n",
       "      <td>141.176651</td>\n",
       "      <td>0.019150</td>\n",
       "      <td>-0.099345</td>\n",
       "      <td>0.054884</td>\n",
       "      <td>0.0</td>\n",
       "      <td>1.0</td>\n",
       "    </tr>\n",
       "    <tr>\n",
       "      <th>2</th>\n",
       "      <td>43542e3a42df9043e6a500e1c2564fc6.jpg</td>\n",
       "      <td>141.195801</td>\n",
       "      <td>-0.022507</td>\n",
       "      <td>-0.115461</td>\n",
       "      <td>0.063855</td>\n",
       "      <td>0.0</td>\n",
       "      <td>2.0</td>\n",
       "    </tr>\n",
       "    <tr>\n",
       "      <th>3</th>\n",
       "      <td>8fad6d7e58542a344408f83a0a73e11b.jpg</td>\n",
       "      <td>141.173294</td>\n",
       "      <td>0.000977</td>\n",
       "      <td>-0.000265</td>\n",
       "      <td>0.000146</td>\n",
       "      <td>0.0</td>\n",
       "      <td>3.0</td>\n",
       "    </tr>\n",
       "    <tr>\n",
       "      <th>4</th>\n",
       "      <td>9293eb98abb2abe316a3598a83c70514.jpg</td>\n",
       "      <td>141.174271</td>\n",
       "      <td>-0.004089</td>\n",
       "      <td>-0.016188</td>\n",
       "      <td>0.008945</td>\n",
       "      <td>0.0</td>\n",
       "      <td>4.0</td>\n",
       "    </tr>\n",
       "  </tbody>\n",
       "</table>\n",
       "</div>"
      ],
      "text/plain": [
       "                               Filename    Altitude     Delta     North      East  run_id  run_seq_id\n",
       "0  dcf05231c492569270f19d3f1780e475.jpg  141.179565 -0.002914 -0.016980  0.009377     0.0         0.0\n",
       "1  1c6ae2e3522e87b5f0eba1e226dc5029.jpg  141.176651  0.019150 -0.099345  0.054884     0.0         1.0\n",
       "2  43542e3a42df9043e6a500e1c2564fc6.jpg  141.195801 -0.022507 -0.115461  0.063855     0.0         2.0\n",
       "3  8fad6d7e58542a344408f83a0a73e11b.jpg  141.173294  0.000977 -0.000265  0.000146     0.0         3.0\n",
       "4  9293eb98abb2abe316a3598a83c70514.jpg  141.174271 -0.004089 -0.016188  0.008945     0.0         4.0"
      ]
     },
     "execution_count": 5,
     "metadata": {},
     "output_type": "execute_result"
    }
   ],
   "source": [
    "train.head()"
   ]
  },
  {
   "cell_type": "code",
   "execution_count": 6,
   "metadata": {},
   "outputs": [],
   "source": [
    "n_folds = 5\n",
    "train['fold'] = np.nan\n",
    "seq_ids = train['run_id']"
   ]
  },
  {
   "cell_type": "code",
   "execution_count": 7,
   "metadata": {},
   "outputs": [
    {
     "name": "stdout",
     "output_type": "stream",
     "text": [
      "Fold: 1\n",
      "Fold: 2\n",
      "Fold: 3\n",
      "Fold: 4\n",
      "Fold: 5\n"
     ]
    }
   ],
   "source": [
    "folds = GroupKFold(n_splits=n_folds)\n",
    "for fold_, (trn_, val_) in enumerate(folds.split(train, train, seq_ids)):\n",
    "    print(\"Fold: {}\".format(fold_+1))\n",
    "    train.loc[val_, 'fold'] = fold_+1"
   ]
  },
  {
   "cell_type": "code",
   "execution_count": null,
   "metadata": {},
   "outputs": [],
   "source": [
    "train.to_csv(path+'/input/train_sequence_fold.csv')"
   ]
  },
  {
   "cell_type": "code",
   "execution_count": null,
   "metadata": {},
   "outputs": [],
   "source": [
    "test.to_csv(path+'/input/test_sequence.csv')"
   ]
  }
 ],
 "metadata": {
  "kernelspec": {
   "display_name": "Python 3.9.13 ('.kaggle_env': venv)",
   "language": "python",
   "name": "python3"
  },
  "language_info": {
   "codemirror_mode": {
    "name": "ipython",
    "version": 3
   },
   "file_extension": ".py",
   "mimetype": "text/x-python",
   "name": "python",
   "nbconvert_exporter": "python",
   "pygments_lexer": "ipython3",
   "version": "3.9.13"
  },
  "orig_nbformat": 4,
  "vscode": {
   "interpreter": {
    "hash": "0345ab29092b886eef8a43fa95a1d09d6609882eaf434e84db1e8f5ae4c120d2"
   }
  }
 },
 "nbformat": 4,
 "nbformat_minor": 2
}
