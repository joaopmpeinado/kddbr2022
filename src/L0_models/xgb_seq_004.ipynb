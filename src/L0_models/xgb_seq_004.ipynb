{
 "cells": [
  {
   "cell_type": "code",
   "execution_count": 6,
   "metadata": {
    "_cell_guid": "b1076dfc-b9ad-4769-8c92-a6c4dae69d19",
    "_uuid": "8f2839f25d086af736a60e9eeb907d3b93b6e0e5",
    "execution": {
     "iopub.execute_input": "2022-10-25T16:21:55.464388Z",
     "iopub.status.busy": "2022-10-25T16:21:55.464026Z",
     "iopub.status.idle": "2022-10-25T16:21:55.470620Z",
     "shell.execute_reply": "2022-10-25T16:21:55.469661Z",
     "shell.execute_reply.started": "2022-10-25T16:21:55.464357Z"
    }
   },
   "outputs": [],
   "source": [
    "import os\n",
    "import pandas as pd\n",
    "import numpy as np\n",
    "import xgboost as xgb\n",
    "from lightgbm.callback import early_stopping\n",
    "from sklearn.model_selection import KFold, GroupKFold\n",
    "from tqdm import tqdm\n",
    "from sklearn.metrics import mean_squared_error\n",
    "import warnings\n",
    "\n",
    "import math"
   ]
  },
  {
   "cell_type": "code",
   "execution_count": 7,
   "metadata": {
    "execution": {
     "iopub.execute_input": "2022-10-25T16:21:55.473380Z",
     "iopub.status.busy": "2022-10-25T16:21:55.472632Z",
     "iopub.status.idle": "2022-10-25T16:21:55.483581Z",
     "shell.execute_reply": "2022-10-25T16:21:55.482728Z",
     "shell.execute_reply.started": "2022-10-25T16:21:55.473334Z"
    }
   },
   "outputs": [],
   "source": [
    "pd.set_option('display.width', 1000)\n",
    "pd.set_option('display.max_rows', 500)\n",
    "pd.set_option('display.max_columns', 500)\n",
    "warnings.filterwarnings('ignore')\n",
    "\n",
    "path = os.getcwd()"
   ]
  },
  {
   "cell_type": "code",
   "execution_count": 8,
   "metadata": {
    "execution": {
     "iopub.execute_input": "2022-10-25T16:21:55.485949Z",
     "iopub.status.busy": "2022-10-25T16:21:55.485279Z",
     "iopub.status.idle": "2022-10-25T16:22:11.770677Z",
     "shell.execute_reply": "2022-10-25T16:22:11.769693Z",
     "shell.execute_reply.started": "2022-10-25T16:21:55.485891Z"
    }
   },
   "outputs": [],
   "source": [
    "train = pd.read_csv('../input/kddbr2022apk/train_sequence_fold.csv')\n",
    "test = pd.read_csv('../input/kddbr2022apk/test_sequence.csv')\n",
    "df = pd.concat([train, test])\n",
    "\n",
    "features_1 = pd.read_csv('../input/kddbr2022apk/complete_04.csv')\n",
    "features_1 = features_1[[\"Filename\",\"w_std\",\"w_mean\",\"w_median\",\"w_min\",\"w_max\",\"w_var\",\"n_std\",\"n_mean\",\"n_median\",\"n_min\",\"n_max\",\"n_var\",\"d_std\",\"d_mean\",\"d_median\",\"d_min\",\"d_max\",\"d_var\"]]\n",
    "features_1.columns = [\"Filename\",\"_w_std\",\"_w_mean\",\"_w_median\",\"_w_min\",\"_w_max\",\"_w_var\",\"_n_std\",\"_n_mean\",\"_n_median\",\"_n_min\",\"_n_max\",\"_n_var\",\"_d_std\",\"_d_mean\",\"_d_median\",\"_d_min\",\"_d_max\",\"_d_var\"]\n",
    "features_2 = pd.read_csv('../input/kddbr2022apk/complete_05.csv')\n",
    "features_3 = pd.read_csv('../input/kddbr2022apk/complete_06.csv')\n",
    "\n",
    "features = pd.merge(features_1, features_2, on='Filename', how='left')\n",
    "features = pd.merge(features, features_3, on='Filename', how='left')\n",
    "\n",
    "mario_features_tr = pd.read_csv('../input/kddbr2022apk/mario_train_vec_v1.csv')\n",
    "mario_features_ts = pd.read_csv('../input/kddbr2022apk/mario_test_vec_v1.csv')\n",
    "\n",
    "mario_features = pd.concat([mario_features_tr, mario_features_ts])\n",
    "mario_features2 = pd.read_csv('../input/kddbr2022apk/vecs_v3_fe.csv')\n"
   ]
  },
  {
   "cell_type": "code",
   "execution_count": 9,
   "metadata": {
    "execution": {
     "iopub.execute_input": "2022-10-25T16:22:11.773660Z",
     "iopub.status.busy": "2022-10-25T16:22:11.773301Z",
     "iopub.status.idle": "2022-10-25T16:22:13.400475Z",
     "shell.execute_reply": "2022-10-25T16:22:13.399400Z",
     "shell.execute_reply.started": "2022-10-25T16:22:11.773622Z"
    }
   },
   "outputs": [],
   "source": [
    "df = pd.merge(df, features, on='Filename', how='left')\n",
    "df = pd.merge(df, mario_features, on='Filename', how='left')\n",
    "df = pd.merge(df, mario_features2, on='Filename', how='left')\n",
    "\n",
    "df = df.sort_values(by=['run_id', 'run_seq_id']).reset_index(drop=True)"
   ]
  },
  {
   "cell_type": "code",
   "execution_count": 10,
   "metadata": {
    "execution": {
     "iopub.execute_input": "2022-10-25T16:22:13.402547Z",
     "iopub.status.busy": "2022-10-25T16:22:13.402168Z",
     "iopub.status.idle": "2022-10-25T16:26:26.103113Z",
     "shell.execute_reply": "2022-10-25T16:26:26.101950Z",
     "shell.execute_reply.started": "2022-10-25T16:22:13.402509Z"
    }
   },
   "outputs": [
    {
     "name": "stderr",
     "output_type": "stream",
     "text": [
      "100%|██████████| 42/42 [04:12<00:00,  6.01s/it]\n"
     ]
    }
   ],
   "source": [
    "df['sqrt_altitude'] = np.sqrt(df['Altitude'])\n",
    "df['sqrt_delta'] = np.sqrt(df['Delta'])\n",
    "df['sqrt_altitude_delta'] = np.sqrt(df['Altitude'] + df['Delta'])\n",
    "\n",
    "df['pow2_altitude'] = (df['Altitude'] ** 2)\n",
    "df['pow2_delta'] = (df['Delta'] ** 2)\n",
    "df['pow2_altitude_delta'] = (df['Altitude'] + df['Delta']) ** 2\n",
    "\n",
    "df['log_Altitude'] = np.log(df['Altitude'])\n",
    "df['log_Delta'] = np.log(df['Delta'])\n",
    "df['log_base_05_n_mean'] = np.log(df['base_05_n_mean'])\n",
    "\n",
    "df['pow13_Altitude'] = df['Altitude'] ** (1/3)\n",
    "df['pow13_Delta'] = df['Delta'] ** (1/3)\n",
    "df['pow13_base_05_n_mean'] = df['base_05_n_mean'] ** (1/3)\n",
    "\n",
    "tgt_columns = [\n",
    "    'Delta', 'Altitude', 'log_Altitude', 'log_Delta', 'pow13_Altitude', 'pow13_Delta', 'log_base_05_n_mean', 'pow13_base_05_n_mean',\n",
    "    'base_05_n_mean', '_n_mean', 'base_05_f05_H_1', 'base_05_n_median', 'base_05_n_max', 'base_05_n_min', 'base_05_f05_H_4', 'x', 'base_05_f05_H_25', 'base_05_f05_H_7', 'x_mean', 'x1_mean', 'x2_mean',\n",
    "    'base_05_w_mean', '_w_mean', 'base_05_f05_W_21', 'base_05_w_median', 'base_05_w_max', 'base_05_w_min', 'base_05_f05_W_18', 'y', 'base_05_f05_W_6', 'base_05_f05_W_0', 'y_mean', 'y1_mean', 'y2_mean',\n",
    "    'base_06_n_mean', 'base_06_f06_H_1', 'base_06_n_median', 'base_06_n_max',\n",
    "    'base_06_w_mean', 'base_06_f06_W_21', 'base_06_w_median', 'base_06_w_max'\n",
    "]\n",
    "\n",
    "seq_win = [10,15,25,30,50,75]\n",
    "nxt_sft_win = [1,2,3,5,10,15]\n",
    "\n",
    "for col in tqdm(tgt_columns):\n",
    "    for win in nxt_sft_win:\n",
    "        df['shift'+str(win)+'_'+col] = df.groupby('run_id')[col].shift(win).reset_index(0,drop=True)\n",
    "        df['next'+str(win)+'_'+col] = df.groupby('run_id')[col].shift(-win).reset_index(0,drop=True)\n",
    "        df['seq_diff_last'+str(win)+'_'+col] = df.groupby('run_id')[col].diff(win).reset_index(0,drop=True)\n",
    "        df['seq_diff_next'+str(win)+'_'+col] = df.groupby('run_id')[col].diff(-win).reset_index(0,drop=True)\n",
    "    \n",
    "    for win in seq_win:\n",
    "        df['seq_avg_w'+str(win)+'_'+col] = df.groupby('run_id')[col].rolling(win).mean().reset_index(0,drop=True)\n",
    "        df['seq_std_w'+str(win)+'_'+col] = df.groupby('run_id')[col].rolling(win).std().reset_index(0,drop=True)\n",
    "        df['seq_max_w'+str(win)+'_'+col] = df.groupby('run_id')[col].rolling(win).max().reset_index(0,drop=True)\n",
    "        df['seq_min_w'+str(win)+'_'+col] = df.groupby('run_id')[col].rolling(win).min().reset_index(0,drop=True)\n",
    "    \n",
    "    \n",
    "    df['seq_div_last1_'+col] = df[col] / df['shift1_'+col]\n",
    "    df['seq_div_next1_'+col] = df[col] / df['next1_'+col]\n",
    "    df['seq_div_last2_'+col] = df[col] / df['shift2_'+col]\n",
    "    df['seq_div_next2_'+col] = df[col] / df['next2_'+col]\n",
    "    df['seq_div_last3_'+col] = df[col] / df['shift3_'+col]\n",
    "    df['seq_div_next3_'+col] = df[col] / df['next3_'+col]\n",
    "    \n",
    "    df['seq_min_'+col] = df.groupby('run_id')[col].transform('min')\n",
    "    df['seq_max_'+col] = df.groupby('run_id')[col].transform('max')\n",
    "    df['seq_std_'+col] = df.groupby('run_id')[col].transform('std')\n",
    "    df['seq_avg_'+col] = df.groupby('run_id')[col].transform('mean')\n",
    "\n",
    "df['r_vetorial_now'] = (df['base_05_n_mean'] ** 2) + (df['base_05_w_mean'] ** 2)\n",
    "df['shift_r_vetorial'] = (df['shift1_base_05_n_mean'] ** 2) + (df['shift1_base_05_w_mean'] ** 2)\n",
    "df['shift2_r_vetorial'] = (df['shift2_base_05_n_mean'] ** 2) + (df['shift2_base_05_w_mean'] ** 2)\n",
    "df['next_r_vetorial'] = (df['next1_base_05_n_mean'] ** 2) + (df['next1_base_05_w_mean'] ** 2)\n",
    "df['next2_r_vetorial'] = (df['next2_base_05_n_mean'] ** 2) + (df['next2_base_05_w_mean'] ** 2)\n",
    "df['avg_shift_r_vet'] = (df['r_vetorial_now'] + df['shift_r_vetorial'] + df['shift2_r_vetorial']) / 3\n",
    "df['avg_next_r_vet'] = (df['r_vetorial_now'] + df['next_r_vetorial'] + df['next2_r_vetorial']) / 3\n",
    "df['avg_all_r_vet'] = (df['r_vetorial_now'] + df['next_r_vetorial'] + df['next2_r_vetorial'] + df['shift_r_vetorial'] + df['shift2_r_vetorial']) / 5\n",
    "\n",
    "df['div_r_next2_next'] = df['next2_r_vetorial'] / df['next_r_vetorial']\n",
    "df['div_r_next_now'] = df['next_r_vetorial'] / df['r_vetorial_now']\n",
    "df['div_r_now_shift'] = df['r_vetorial_now'] / df['shift_r_vetorial']\n",
    "df['div_r_shift1_shift2'] = df['shift_r_vetorial'] / df['shift2_r_vetorial']\n",
    "df['avg_div_r'] = (df['div_r_next2_next'] + df['div_r_next_now'] + df['div_r_now_shift'] + df['div_r_shift1_shift2']) / 4"
   ]
  },
  {
   "cell_type": "code",
   "execution_count": 11,
   "metadata": {
    "execution": {
     "iopub.execute_input": "2022-10-25T16:26:26.105102Z",
     "iopub.status.busy": "2022-10-25T16:26:26.104719Z",
     "iopub.status.idle": "2022-10-25T16:26:26.111175Z",
     "shell.execute_reply": "2022-10-25T16:26:26.110250Z",
     "shell.execute_reply.started": "2022-10-25T16:26:26.105066Z"
    }
   },
   "outputs": [
    {
     "name": "stdout",
     "output_type": "stream",
     "text": [
      "(146262, 2629)\n"
     ]
    }
   ],
   "source": [
    "print(df.shape)"
   ]
  },
  {
   "cell_type": "code",
   "execution_count": 12,
   "metadata": {
    "execution": {
     "iopub.execute_input": "2022-10-25T16:26:26.113562Z",
     "iopub.status.busy": "2022-10-25T16:26:26.112625Z",
     "iopub.status.idle": "2022-10-25T16:26:33.615911Z",
     "shell.execute_reply": "2022-10-25T16:26:33.614923Z",
     "shell.execute_reply.started": "2022-10-25T16:26:26.113534Z"
    }
   },
   "outputs": [],
   "source": [
    "train = df.loc[~df.North.isnull(), :].sort_values(by=['run_id', 'run_seq_id']).reset_index(drop=True)\n",
    "test = df.loc[df.North.isnull(), :].sort_values(by=['run_id', 'run_seq_id']).reset_index(drop=True)"
   ]
  },
  {
   "cell_type": "code",
   "execution_count": 13,
   "metadata": {
    "execution": {
     "iopub.execute_input": "2022-10-25T16:26:33.619292Z",
     "iopub.status.busy": "2022-10-25T16:26:33.617277Z",
     "iopub.status.idle": "2022-10-25T16:26:33.796190Z",
     "shell.execute_reply": "2022-10-25T16:26:33.795113Z",
     "shell.execute_reply.started": "2022-10-25T16:26:33.619252Z"
    }
   },
   "outputs": [
    {
     "data": {
      "text/plain": [
       "23"
      ]
     },
     "execution_count": 13,
     "metadata": {},
     "output_type": "execute_result"
    }
   ],
   "source": [
    "import gc\n",
    "del df\n",
    "gc.collect()"
   ]
  },
  {
   "cell_type": "code",
   "execution_count": 14,
   "metadata": {
    "execution": {
     "iopub.execute_input": "2022-10-25T16:26:33.798521Z",
     "iopub.status.busy": "2022-10-25T16:26:33.797697Z",
     "iopub.status.idle": "2022-10-25T16:26:33.805478Z",
     "shell.execute_reply": "2022-10-25T16:26:33.804497Z",
     "shell.execute_reply.started": "2022-10-25T16:26:33.798483Z"
    }
   },
   "outputs": [],
   "source": [
    "train_columns = [col for col in train.columns if col not in ['Filename', 'North', 'East', 'fold', 'run_id', 'run_seq_id']]"
   ]
  },
  {
   "cell_type": "code",
   "execution_count": 15,
   "metadata": {
    "execution": {
     "iopub.execute_input": "2022-10-25T16:26:33.809488Z",
     "iopub.status.busy": "2022-10-25T16:26:33.809202Z",
     "iopub.status.idle": "2022-10-25T16:26:33.817417Z",
     "shell.execute_reply": "2022-10-25T16:26:33.816453Z",
     "shell.execute_reply.started": "2022-10-25T16:26:33.809463Z"
    }
   },
   "outputs": [],
   "source": [
    "n_folds = 5\n",
    "\n",
    "north_oof_preds = np.zeros(len(train))\n",
    "east_oof_preds = np.zeros(len(train))\n",
    "\n",
    "north_test_preds = np.zeros(len(test))\n",
    "east_test_preds = np.zeros(len(test))\n",
    "\n",
    "targets = ['North', 'East']"
   ]
  },
  {
   "cell_type": "code",
   "execution_count": 16,
   "metadata": {
    "execution": {
     "iopub.execute_input": "2022-10-25T16:26:33.819363Z",
     "iopub.status.busy": "2022-10-25T16:26:33.818559Z",
     "iopub.status.idle": "2022-10-25T16:26:36.130827Z",
     "shell.execute_reply": "2022-10-25T16:26:36.129784Z",
     "shell.execute_reply.started": "2022-10-25T16:26:33.819326Z"
    }
   },
   "outputs": [],
   "source": [
    "train = train.replace([np.inf, -np.inf], np.nan)\n",
    "#trn_x = trn_x.fillna(-999)\n",
    "test = test.replace([np.inf, -np.inf], np.nan)"
   ]
  },
  {
   "cell_type": "code",
   "execution_count": 17,
   "metadata": {
    "execution": {
     "iopub.execute_input": "2022-10-25T16:26:36.133947Z",
     "iopub.status.busy": "2022-10-25T16:26:36.133517Z",
     "iopub.status.idle": "2022-10-25T16:57:25.490951Z",
     "shell.execute_reply": "2022-10-25T16:57:25.489931Z",
     "shell.execute_reply.started": "2022-10-25T16:26:36.133904Z"
    }
   },
   "outputs": [
    {
     "name": "stdout",
     "output_type": "stream",
     "text": [
      "Fold: 1.0\n",
      "Iteration: 1\n",
      "[0]\ttrain-rmse:1.17995\tvalid-rmse:1.17135\n",
      "[200]\ttrain-rmse:0.18209\tvalid-rmse:0.26439\n",
      "[400]\ttrain-rmse:0.14429\tvalid-rmse:0.25758\n",
      "[600]\ttrain-rmse:0.12073\tvalid-rmse:0.25424\n",
      "[800]\ttrain-rmse:0.10464\tvalid-rmse:0.25248\n",
      "[1000]\ttrain-rmse:0.09183\tvalid-rmse:0.25148\n",
      "[1200]\ttrain-rmse:0.08221\tvalid-rmse:0.25089\n",
      "[1400]\ttrain-rmse:0.07425\tvalid-rmse:0.25010\n",
      "[1600]\ttrain-rmse:0.06713\tvalid-rmse:0.24974\n",
      "[1800]\ttrain-rmse:0.06116\tvalid-rmse:0.24951\n",
      "[2000]\ttrain-rmse:0.05582\tvalid-rmse:0.24923\n",
      "[2200]\ttrain-rmse:0.05156\tvalid-rmse:0.24896\n",
      "[2400]\ttrain-rmse:0.04755\tvalid-rmse:0.24873\n",
      "[2600]\ttrain-rmse:0.04381\tvalid-rmse:0.24854\n",
      "[2800]\ttrain-rmse:0.04056\tvalid-rmse:0.24829\n",
      "[3000]\ttrain-rmse:0.03769\tvalid-rmse:0.24822\n",
      "[3200]\ttrain-rmse:0.03499\tvalid-rmse:0.24806\n",
      "[3400]\ttrain-rmse:0.03267\tvalid-rmse:0.24794\n",
      "[3600]\ttrain-rmse:0.03059\tvalid-rmse:0.24791\n",
      "[3800]\ttrain-rmse:0.02872\tvalid-rmse:0.24780\n",
      "[4000]\ttrain-rmse:0.02694\tvalid-rmse:0.24774\n",
      "[4200]\ttrain-rmse:0.02533\tvalid-rmse:0.24773\n",
      "[4400]\ttrain-rmse:0.02381\tvalid-rmse:0.24766\n",
      "[4595]\ttrain-rmse:0.02248\tvalid-rmse:0.24768\n",
      "FOLD RMSE = 0.2476832548759125\n",
      "Fold: 2.0\n",
      "Iteration: 1\n",
      "[0]\ttrain-rmse:1.16549\tvalid-rmse:1.23224\n",
      "[200]\ttrain-rmse:0.16866\tvalid-rmse:0.31230\n",
      "[400]\ttrain-rmse:0.12732\tvalid-rmse:0.30689\n",
      "[600]\ttrain-rmse:0.10349\tvalid-rmse:0.30334\n",
      "[800]\ttrain-rmse:0.08733\tvalid-rmse:0.30185\n",
      "[1000]\ttrain-rmse:0.07541\tvalid-rmse:0.30099\n",
      "[1200]\ttrain-rmse:0.06577\tvalid-rmse:0.30043\n",
      "[1400]\ttrain-rmse:0.05828\tvalid-rmse:0.29958\n",
      "[1600]\ttrain-rmse:0.05214\tvalid-rmse:0.29908\n",
      "[1800]\ttrain-rmse:0.04721\tvalid-rmse:0.29857\n",
      "[2000]\ttrain-rmse:0.04307\tvalid-rmse:0.29844\n",
      "[2200]\ttrain-rmse:0.03962\tvalid-rmse:0.29781\n",
      "[2400]\ttrain-rmse:0.03674\tvalid-rmse:0.29766\n",
      "[2600]\ttrain-rmse:0.03424\tvalid-rmse:0.29764\n",
      "[2800]\ttrain-rmse:0.03194\tvalid-rmse:0.29742\n",
      "[3000]\ttrain-rmse:0.02993\tvalid-rmse:0.29732\n",
      "[3200]\ttrain-rmse:0.02811\tvalid-rmse:0.29723\n",
      "[3400]\ttrain-rmse:0.02639\tvalid-rmse:0.29704\n",
      "[3600]\ttrain-rmse:0.02483\tvalid-rmse:0.29691\n",
      "[3800]\ttrain-rmse:0.02346\tvalid-rmse:0.29689\n",
      "[4000]\ttrain-rmse:0.02224\tvalid-rmse:0.29682\n",
      "[4200]\ttrain-rmse:0.02113\tvalid-rmse:0.29685\n",
      "[4281]\ttrain-rmse:0.02070\tvalid-rmse:0.29688\n",
      "FOLD RMSE = 0.29687970928873686\n",
      "Fold: 3.0\n",
      "Iteration: 1\n",
      "[0]\ttrain-rmse:1.18806\tvalid-rmse:1.13414\n",
      "[200]\ttrain-rmse:0.18618\tvalid-rmse:0.27029\n",
      "[400]\ttrain-rmse:0.14970\tvalid-rmse:0.26531\n",
      "[600]\ttrain-rmse:0.12658\tvalid-rmse:0.26314\n",
      "[800]\ttrain-rmse:0.10937\tvalid-rmse:0.26155\n",
      "[1000]\ttrain-rmse:0.09704\tvalid-rmse:0.26149\n",
      "[1200]\ttrain-rmse:0.08714\tvalid-rmse:0.26127\n",
      "[1400]\ttrain-rmse:0.07909\tvalid-rmse:0.26059\n",
      "[1600]\ttrain-rmse:0.07206\tvalid-rmse:0.25988\n",
      "[1800]\ttrain-rmse:0.06620\tvalid-rmse:0.25966\n",
      "[2000]\ttrain-rmse:0.06099\tvalid-rmse:0.25932\n",
      "[2200]\ttrain-rmse:0.05626\tvalid-rmse:0.25904\n",
      "[2350]\ttrain-rmse:0.05319\tvalid-rmse:0.25907\n",
      "FOLD RMSE = 0.25907409618918464\n",
      "Fold: 4.0\n",
      "Iteration: 1\n",
      "[0]\ttrain-rmse:1.17726\tvalid-rmse:1.18214\n",
      "[200]\ttrain-rmse:0.12583\tvalid-rmse:0.44990\n",
      "[400]\ttrain-rmse:0.09353\tvalid-rmse:0.44544\n",
      "[600]\ttrain-rmse:0.07553\tvalid-rmse:0.44266\n",
      "[800]\ttrain-rmse:0.06355\tvalid-rmse:0.44121\n",
      "[1000]\ttrain-rmse:0.05545\tvalid-rmse:0.44026\n",
      "[1200]\ttrain-rmse:0.04954\tvalid-rmse:0.43992\n",
      "[1400]\ttrain-rmse:0.04498\tvalid-rmse:0.43957\n",
      "[1600]\ttrain-rmse:0.04147\tvalid-rmse:0.43930\n",
      "[1800]\ttrain-rmse:0.03849\tvalid-rmse:0.43921\n",
      "[2000]\ttrain-rmse:0.03591\tvalid-rmse:0.43893\n",
      "[2200]\ttrain-rmse:0.03361\tvalid-rmse:0.43875\n",
      "[2400]\ttrain-rmse:0.03151\tvalid-rmse:0.43864\n",
      "[2588]\ttrain-rmse:0.02989\tvalid-rmse:0.43864\n",
      "FOLD RMSE = 0.438639998237024\n",
      "Fold: 5.0\n",
      "Iteration: 1\n",
      "[0]\ttrain-rmse:1.17836\tvalid-rmse:1.17375\n",
      "[200]\ttrain-rmse:0.17323\tvalid-rmse:0.29154\n",
      "[400]\ttrain-rmse:0.13271\tvalid-rmse:0.28662\n",
      "[600]\ttrain-rmse:0.10918\tvalid-rmse:0.28462\n",
      "[800]\ttrain-rmse:0.09188\tvalid-rmse:0.28338\n",
      "[1000]\ttrain-rmse:0.07916\tvalid-rmse:0.28237\n",
      "[1200]\ttrain-rmse:0.06902\tvalid-rmse:0.28175\n",
      "[1400]\ttrain-rmse:0.06090\tvalid-rmse:0.28137\n",
      "[1600]\ttrain-rmse:0.05453\tvalid-rmse:0.28105\n",
      "[1800]\ttrain-rmse:0.04896\tvalid-rmse:0.28093\n",
      "[2000]\ttrain-rmse:0.04467\tvalid-rmse:0.28100\n",
      "[2019]\ttrain-rmse:0.04431\tvalid-rmse:0.28095\n",
      "FOLD RMSE = 0.2809574497578519\n",
      "############################################################\n",
      "North - MEAN RMSE = 0.304646901669742\n",
      "North - OOF RMSE = 0.31239209150957087\n",
      "[0.2476832548759125, 0.29687970928873686, 0.25907409618918464, 0.438639998237024, 0.2809574497578519]\n",
      "Fold: 1.0\n",
      "Iteration: 1\n",
      "[0]\ttrain-rmse:1.14766\tvalid-rmse:1.17454\n",
      "[200]\ttrain-rmse:0.13168\tvalid-rmse:0.25120\n",
      "[400]\ttrain-rmse:0.09910\tvalid-rmse:0.24558\n",
      "[600]\ttrain-rmse:0.08020\tvalid-rmse:0.24228\n",
      "[800]\ttrain-rmse:0.06845\tvalid-rmse:0.24033\n",
      "[1000]\ttrain-rmse:0.05957\tvalid-rmse:0.23929\n",
      "[1200]\ttrain-rmse:0.05285\tvalid-rmse:0.23868\n",
      "[1400]\ttrain-rmse:0.04723\tvalid-rmse:0.23799\n",
      "[1600]\ttrain-rmse:0.04295\tvalid-rmse:0.23759\n",
      "[1800]\ttrain-rmse:0.03926\tvalid-rmse:0.23733\n",
      "[2000]\ttrain-rmse:0.03619\tvalid-rmse:0.23711\n",
      "[2200]\ttrain-rmse:0.03361\tvalid-rmse:0.23719\n",
      "[2207]\ttrain-rmse:0.03353\tvalid-rmse:0.23717\n",
      "FOLD RMSE = 0.23716897387016245\n",
      "Fold: 2.0\n",
      "Iteration: 1\n",
      "[0]\ttrain-rmse:1.14648\tvalid-rmse:1.17507\n",
      "[200]\ttrain-rmse:0.12663\tvalid-rmse:0.26843\n",
      "[400]\ttrain-rmse:0.09311\tvalid-rmse:0.26418\n",
      "[600]\ttrain-rmse:0.07518\tvalid-rmse:0.26189\n",
      "[800]\ttrain-rmse:0.06377\tvalid-rmse:0.26024\n",
      "[1000]\ttrain-rmse:0.05529\tvalid-rmse:0.26049\n",
      "[1019]\ttrain-rmse:0.05469\tvalid-rmse:0.26046\n",
      "FOLD RMSE = 0.26045838847455505\n",
      "Fold: 3.0\n",
      "Iteration: 1\n",
      "[0]\ttrain-rmse:1.13348\tvalid-rmse:1.23075\n",
      "[200]\ttrain-rmse:0.13414\tvalid-rmse:0.25792\n",
      "[400]\ttrain-rmse:0.10039\tvalid-rmse:0.25270\n",
      "[600]\ttrain-rmse:0.08205\tvalid-rmse:0.25081\n",
      "[800]\ttrain-rmse:0.06968\tvalid-rmse:0.24915\n",
      "[1000]\ttrain-rmse:0.06081\tvalid-rmse:0.24849\n",
      "[1200]\ttrain-rmse:0.05423\tvalid-rmse:0.24802\n",
      "[1400]\ttrain-rmse:0.04873\tvalid-rmse:0.24738\n",
      "[1600]\ttrain-rmse:0.04388\tvalid-rmse:0.24724\n",
      "[1800]\ttrain-rmse:0.04015\tvalid-rmse:0.24718\n",
      "[2000]\ttrain-rmse:0.03690\tvalid-rmse:0.24698\n",
      "[2200]\ttrain-rmse:0.03412\tvalid-rmse:0.24695\n",
      "[2311]\ttrain-rmse:0.03267\tvalid-rmse:0.24696\n",
      "FOLD RMSE = 0.24696166264058694\n",
      "Fold: 4.0\n",
      "Iteration: 1\n",
      "[0]\ttrain-rmse:1.17558\tvalid-rmse:1.04937\n",
      "[200]\ttrain-rmse:0.12592\tvalid-rmse:0.28440\n",
      "[400]\ttrain-rmse:0.09197\tvalid-rmse:0.28039\n",
      "[600]\ttrain-rmse:0.07463\tvalid-rmse:0.28018\n",
      "[764]\ttrain-rmse:0.06564\tvalid-rmse:0.28057\n",
      "FOLD RMSE = 0.28056888724583473\n",
      "Fold: 5.0\n",
      "Iteration: 1\n",
      "[0]\ttrain-rmse:1.15769\tvalid-rmse:1.13553\n",
      "[200]\ttrain-rmse:0.13051\tvalid-rmse:0.29452\n",
      "[400]\ttrain-rmse:0.09549\tvalid-rmse:0.28798\n",
      "[600]\ttrain-rmse:0.07688\tvalid-rmse:0.28556\n",
      "[800]\ttrain-rmse:0.06454\tvalid-rmse:0.28500\n",
      "[1000]\ttrain-rmse:0.05622\tvalid-rmse:0.28443\n",
      "[1200]\ttrain-rmse:0.04975\tvalid-rmse:0.28373\n",
      "[1400]\ttrain-rmse:0.04477\tvalid-rmse:0.28326\n",
      "[1600]\ttrain-rmse:0.04072\tvalid-rmse:0.28302\n",
      "[1800]\ttrain-rmse:0.03735\tvalid-rmse:0.28294\n",
      "[2000]\ttrain-rmse:0.03462\tvalid-rmse:0.28291\n",
      "[2200]\ttrain-rmse:0.03216\tvalid-rmse:0.28280\n",
      "[2400]\ttrain-rmse:0.02991\tvalid-rmse:0.28277\n",
      "[2453]\ttrain-rmse:0.02941\tvalid-rmse:0.28277\n",
      "FOLD RMSE = 0.2827669804255671\n",
      "############################################################\n",
      "East - MEAN RMSE = 0.2615849785313412\n",
      "East - OOF RMSE = 0.26220340869362646\n",
      "[0.23716897387016245, 0.26045838847455505, 0.24696166264058694, 0.28056888724583473, 0.2827669804255671]\n",
      "CPU times: user 32min 29s, sys: 43.2 s, total: 33min 12s\n",
      "Wall time: 30min 49s\n"
     ]
    }
   ],
   "source": [
    "%%time\n",
    "for target in targets:\n",
    "    y = train[target]\n",
    "    oof_preds = np.zeros(len(train))\n",
    "    test_preds_fold = np.zeros(len(test))\n",
    "    score_folds  = []\n",
    "\n",
    "    # folds = GroupKFold(n_splits=n_folds)\n",
    "    # for fold_, (trn_, val_) in enumerate(folds.split(y, y, train.run_id)):\n",
    "    for fold_ in train.fold.sort_values().unique():\n",
    "        print(\"Fold: {}\".format(fold_))\n",
    "\n",
    "        trn_ = train.loc[train.fold != fold_].index\n",
    "        val_ = train.loc[train.fold == fold_].index\n",
    "\n",
    "        trn_x, trn_y = train.loc[trn_, train_columns], y.loc[trn_]\n",
    "        val_x, val_y = train.loc[val_, train_columns], y.loc[val_]\n",
    "        \n",
    "        dtrain = xgb.DMatrix(trn_x, trn_y)\n",
    "        dvalid = xgb.DMatrix(val_x, val_y)\n",
    "        \n",
    "        watchlist = [(dtrain, 'train'), (dvalid, 'valid')]\n",
    "        \n",
    "        params = {\n",
    "          'objective': \"reg:squarederror\", #\"reg:logistic\",\n",
    "          'booster': \"gbtree\",\n",
    "          'eval_metric': 'rmse', \n",
    "          'colsample_bytree': 0.85,\n",
    "          'subsample': 0.85,\n",
    "          'eta': 0.1,\n",
    "          'max_depth': 5,\n",
    "          'min_child_weight': 64, \n",
    "          'max_bin': 32,\n",
    "          'nthread':-1,\n",
    "          'seed': 99,\n",
    "          'tree_method': 'gpu_hist'\n",
    "        }\n",
    "        \n",
    "        execs = 1\n",
    "        preds = np.zeros(len(val_x))\n",
    "        test_preds_exec = np.zeros(len(test))\n",
    "        \n",
    "        for p in range(0,execs):\n",
    "            print(\"Iteration: {}\".format(p+1))\n",
    "            params['seed'] += p\n",
    "            model = xgb.train(params, dtrain, \n",
    "                               10000, watchlist, \n",
    "                               maximize=False, \n",
    "                               early_stopping_rounds = 200, \n",
    "                               verbose_eval=200)\n",
    "                            #early_stopping_rounds = 1000)\n",
    "            \n",
    "            preds += ((model.predict(xgb.DMatrix(val_x))) / execs)\n",
    "            test_preds_exec += ((model.predict(xgb.DMatrix(test[train_columns]))) / execs)\n",
    "\n",
    "        test_preds_fold += (test_preds_exec / n_folds)\n",
    "        oof_preds[val_] = preds\n",
    "        score_folds.append(np.sqrt(mean_squared_error(val_y, preds)))\n",
    "        print(\"FOLD RMSE = {}\".format(np.sqrt(mean_squared_error(val_y, preds))))\n",
    "        del dtrain, dvalid, trn_x, val_x\n",
    "        gc.collect()\n",
    "\n",
    "    print(\"############################################################\")\n",
    "    print(\"{} - MEAN RMSE = {}\".format(target, np.mean(score_folds)))\n",
    "    print(\"{} - OOF RMSE = {}\".format(target, np.sqrt(mean_squared_error(y, oof_preds))))\n",
    "    print(score_folds)\n",
    "\n",
    "    if target == 'North':\n",
    "        north_oof_preds = oof_preds\n",
    "        north_test_preds = test_preds_fold\n",
    "    else:\n",
    "        east_oof_preds = oof_preds\n",
    "        east_test_preds = test_preds_fold"
   ]
  },
  {
   "cell_type": "code",
   "execution_count": null,
   "metadata": {},
   "outputs": [],
   "source": [
    "North - MEAN RMSE = 0.311049136205637\n",
    "North - OOF RMSE = 0.31824534133537397\n",
    "[0.2574873937765054, 0.30194366065162365, 0.27049199456627643, 0.44241183953647506, 0.2829107924973042]"
   ]
  },
  {
   "cell_type": "code",
   "execution_count": 18,
   "metadata": {
    "execution": {
     "iopub.execute_input": "2022-10-25T16:57:25.494162Z",
     "iopub.status.busy": "2022-10-25T16:57:25.492308Z",
     "iopub.status.idle": "2022-10-25T16:57:25.499616Z",
     "shell.execute_reply": "2022-10-25T16:57:25.498764Z",
     "shell.execute_reply.started": "2022-10-25T16:57:25.494123Z"
    }
   },
   "outputs": [],
   "source": [
    "all_preds = np.concatenate([north_oof_preds, east_oof_preds])\n",
    "all_target = np.concatenate([train.North, train.East])"
   ]
  },
  {
   "cell_type": "code",
   "execution_count": 19,
   "metadata": {
    "execution": {
     "iopub.execute_input": "2022-10-25T16:57:25.501388Z",
     "iopub.status.busy": "2022-10-25T16:57:25.501034Z",
     "iopub.status.idle": "2022-10-25T16:57:25.516826Z",
     "shell.execute_reply": "2022-10-25T16:57:25.515939Z",
     "shell.execute_reply.started": "2022-10-25T16:57:25.501353Z"
    }
   },
   "outputs": [
    {
     "name": "stdout",
     "output_type": "stream",
     "text": [
      "ALL - OOF RMSE = 0.28839161427500015\n"
     ]
    }
   ],
   "source": [
    "print(\"ALL - OOF RMSE = {}\".format(np.sqrt(mean_squared_error(all_target, all_preds))))"
   ]
  },
  {
   "cell_type": "code",
   "execution_count": 20,
   "metadata": {
    "execution": {
     "iopub.execute_input": "2022-10-25T16:57:25.518723Z",
     "iopub.status.busy": "2022-10-25T16:57:25.518381Z",
     "iopub.status.idle": "2022-10-25T16:57:25.878375Z",
     "shell.execute_reply": "2022-10-25T16:57:25.877401Z",
     "shell.execute_reply.started": "2022-10-25T16:57:25.518690Z"
    }
   },
   "outputs": [],
   "source": [
    "sub_oof = pd.DataFrame({\n",
    "    'Filename': train.Filename,\n",
    "    'oof_north': north_oof_preds,\n",
    "    'oof_east': east_oof_preds\n",
    "})\n",
    "\n",
    "sub_oof.to_csv('oof_xgb_seq_004.csv', index=False)"
   ]
  },
  {
   "cell_type": "code",
   "execution_count": 21,
   "metadata": {
    "execution": {
     "iopub.execute_input": "2022-10-25T16:57:25.880222Z",
     "iopub.status.busy": "2022-10-25T16:57:25.879843Z",
     "iopub.status.idle": "2022-10-25T16:57:25.888848Z",
     "shell.execute_reply": "2022-10-25T16:57:25.887693Z",
     "shell.execute_reply.started": "2022-10-25T16:57:25.880186Z"
    }
   },
   "outputs": [],
   "source": [
    "sub_north_test = pd.DataFrame({\n",
    "    'Id': test.Filename,\n",
    "    'Predicted': north_test_preds\n",
    "})\n",
    "\n",
    "sub_east_test = pd.DataFrame({\n",
    "    'Id': test.Filename,\n",
    "    'Predicted': east_test_preds\n",
    "})"
   ]
  },
  {
   "cell_type": "code",
   "execution_count": 22,
   "metadata": {
    "execution": {
     "iopub.execute_input": "2022-10-25T16:57:25.890940Z",
     "iopub.status.busy": "2022-10-25T16:57:25.890573Z",
     "iopub.status.idle": "2022-10-25T16:57:25.922368Z",
     "shell.execute_reply": "2022-10-25T16:57:25.921356Z",
     "shell.execute_reply.started": "2022-10-25T16:57:25.890904Z"
    }
   },
   "outputs": [],
   "source": [
    "sub_north_test.Id = sub_north_test['Id'].astype(str) + ':North'\n",
    "sub_east_test.Id  = sub_east_test['Id'].astype(str) + ':East'\n",
    "\n",
    "sub_all_test = pd.concat([sub_north_test, sub_east_test])"
   ]
  },
  {
   "cell_type": "code",
   "execution_count": 23,
   "metadata": {
    "execution": {
     "iopub.execute_input": "2022-10-25T16:57:25.925441Z",
     "iopub.status.busy": "2022-10-25T16:57:25.924666Z",
     "iopub.status.idle": "2022-10-25T16:57:26.207374Z",
     "shell.execute_reply": "2022-10-25T16:57:26.206385Z",
     "shell.execute_reply.started": "2022-10-25T16:57:25.925405Z"
    }
   },
   "outputs": [],
   "source": [
    "sub_all_test[['Id', 'Predicted']].to_csv('sub_xgb_seq_004.csv', index=False)"
   ]
  },
  {
   "cell_type": "code",
   "execution_count": 24,
   "metadata": {
    "execution": {
     "iopub.execute_input": "2022-10-25T16:57:26.209232Z",
     "iopub.status.busy": "2022-10-25T16:57:26.208847Z",
     "iopub.status.idle": "2022-10-25T16:57:26.227407Z",
     "shell.execute_reply": "2022-10-25T16:57:26.226205Z",
     "shell.execute_reply.started": "2022-10-25T16:57:26.209194Z"
    }
   },
   "outputs": [
    {
     "data": {
      "text/html": [
       "<div>\n",
       "<style scoped>\n",
       "    .dataframe tbody tr th:only-of-type {\n",
       "        vertical-align: middle;\n",
       "    }\n",
       "\n",
       "    .dataframe tbody tr th {\n",
       "        vertical-align: top;\n",
       "    }\n",
       "\n",
       "    .dataframe thead th {\n",
       "        text-align: right;\n",
       "    }\n",
       "</style>\n",
       "<table border=\"1\" class=\"dataframe\">\n",
       "  <thead>\n",
       "    <tr style=\"text-align: right;\">\n",
       "      <th></th>\n",
       "      <th>Id</th>\n",
       "      <th>Predicted</th>\n",
       "    </tr>\n",
       "  </thead>\n",
       "  <tbody>\n",
       "    <tr>\n",
       "      <th>0</th>\n",
       "      <td>0f57a863af3b7e5bf59a94319a408ff7.jpg:North</td>\n",
       "      <td>-0.185581</td>\n",
       "    </tr>\n",
       "    <tr>\n",
       "      <th>1</th>\n",
       "      <td>b7d4e3a6acb3b956d8b09416958e8892.jpg:North</td>\n",
       "      <td>-0.381219</td>\n",
       "    </tr>\n",
       "    <tr>\n",
       "      <th>2</th>\n",
       "      <td>9a1bd630a47dabafa6f4cab7338d01df.jpg:North</td>\n",
       "      <td>-0.458096</td>\n",
       "    </tr>\n",
       "    <tr>\n",
       "      <th>3</th>\n",
       "      <td>3f6ebf8aef0f352720bc0cb534d878b6.jpg:North</td>\n",
       "      <td>-0.515681</td>\n",
       "    </tr>\n",
       "    <tr>\n",
       "      <th>4</th>\n",
       "      <td>7e810f05bd88ff0f86dce7116b9fa527.jpg:North</td>\n",
       "      <td>-0.548000</td>\n",
       "    </tr>\n",
       "    <tr>\n",
       "      <th>...</th>\n",
       "      <td>...</td>\n",
       "      <td>...</td>\n",
       "    </tr>\n",
       "    <tr>\n",
       "      <th>55026</th>\n",
       "      <td>fc65c23ae61ce2c6fdbc637a8296d1d7.jpg:East</td>\n",
       "      <td>1.470125</td>\n",
       "    </tr>\n",
       "    <tr>\n",
       "      <th>55027</th>\n",
       "      <td>fc6c0d99ec42bad5e2d5fbb1e71c5a50.jpg:East</td>\n",
       "      <td>1.457050</td>\n",
       "    </tr>\n",
       "    <tr>\n",
       "      <th>55028</th>\n",
       "      <td>fdbb732633c6a3d32a67fc56edc7cde4.jpg:East</td>\n",
       "      <td>-0.463632</td>\n",
       "    </tr>\n",
       "    <tr>\n",
       "      <th>55029</th>\n",
       "      <td>feac1b902c7487dcbdf298bd4be75690.jpg:East</td>\n",
       "      <td>-0.245923</td>\n",
       "    </tr>\n",
       "    <tr>\n",
       "      <th>55030</th>\n",
       "      <td>ff76ffce183c11f84489bbd0a34a2fcf.jpg:East</td>\n",
       "      <td>-1.286735</td>\n",
       "    </tr>\n",
       "  </tbody>\n",
       "</table>\n",
       "<p>110062 rows × 2 columns</p>\n",
       "</div>"
      ],
      "text/plain": [
       "                                               Id  Predicted\n",
       "0      0f57a863af3b7e5bf59a94319a408ff7.jpg:North  -0.185581\n",
       "1      b7d4e3a6acb3b956d8b09416958e8892.jpg:North  -0.381219\n",
       "2      9a1bd630a47dabafa6f4cab7338d01df.jpg:North  -0.458096\n",
       "3      3f6ebf8aef0f352720bc0cb534d878b6.jpg:North  -0.515681\n",
       "4      7e810f05bd88ff0f86dce7116b9fa527.jpg:North  -0.548000\n",
       "...                                           ...        ...\n",
       "55026   fc65c23ae61ce2c6fdbc637a8296d1d7.jpg:East   1.470125\n",
       "55027   fc6c0d99ec42bad5e2d5fbb1e71c5a50.jpg:East   1.457050\n",
       "55028   fdbb732633c6a3d32a67fc56edc7cde4.jpg:East  -0.463632\n",
       "55029   feac1b902c7487dcbdf298bd4be75690.jpg:East  -0.245923\n",
       "55030   ff76ffce183c11f84489bbd0a34a2fcf.jpg:East  -1.286735\n",
       "\n",
       "[110062 rows x 2 columns]"
      ]
     },
     "execution_count": 24,
     "metadata": {},
     "output_type": "execute_result"
    }
   ],
   "source": [
    "sub_all_test"
   ]
  },
  {
   "cell_type": "code",
   "execution_count": null,
   "metadata": {},
   "outputs": [],
   "source": []
  }
 ],
 "metadata": {
  "kernelspec": {
   "display_name": "Python 3",
   "language": "python",
   "name": "python3"
  },
  "language_info": {
   "codemirror_mode": {
    "name": "ipython",
    "version": 3
   },
   "file_extension": ".py",
   "mimetype": "text/x-python",
   "name": "python",
   "nbconvert_exporter": "python",
   "pygments_lexer": "ipython3",
   "version": "3.8.8"
  }
 },
 "nbformat": 4,
 "nbformat_minor": 4
}
