{
 "cells": [
  {
   "cell_type": "code",
   "execution_count": 1,
   "metadata": {
    "_cell_guid": "b1076dfc-b9ad-4769-8c92-a6c4dae69d19",
    "_uuid": "8f2839f25d086af736a60e9eeb907d3b93b6e0e5",
    "execution": {
     "iopub.execute_input": "2022-10-28T19:07:22.907646Z",
     "iopub.status.busy": "2022-10-28T19:07:22.906915Z",
     "iopub.status.idle": "2022-10-28T19:07:25.203942Z",
     "shell.execute_reply": "2022-10-28T19:07:25.203041Z",
     "shell.execute_reply.started": "2022-10-28T19:07:22.907555Z"
    }
   },
   "outputs": [
    {
     "data": {
      "text/html": [
       "<style type='text/css'>\n",
       ".datatable table.frame { margin-bottom: 0; }\n",
       ".datatable table.frame thead { border-bottom: none; }\n",
       ".datatable table.frame tr.coltypes td {  color: #FFFFFF;  line-height: 6px;  padding: 0 0.5em;}\n",
       ".datatable .bool    { background: #DDDD99; }\n",
       ".datatable .object  { background: #565656; }\n",
       ".datatable .int     { background: #5D9E5D; }\n",
       ".datatable .float   { background: #4040CC; }\n",
       ".datatable .str     { background: #CC4040; }\n",
       ".datatable .time    { background: #40CC40; }\n",
       ".datatable .row_index {  background: var(--jp-border-color3);  border-right: 1px solid var(--jp-border-color0);  color: var(--jp-ui-font-color3);  font-size: 9px;}\n",
       ".datatable .frame tbody td { text-align: left; }\n",
       ".datatable .frame tr.coltypes .row_index {  background: var(--jp-border-color0);}\n",
       ".datatable th:nth-child(2) { padding-left: 12px; }\n",
       ".datatable .hellipsis {  color: var(--jp-cell-editor-border-color);}\n",
       ".datatable .vellipsis {  background: var(--jp-layout-color0);  color: var(--jp-cell-editor-border-color);}\n",
       ".datatable .na {  color: var(--jp-cell-editor-border-color);  font-size: 80%;}\n",
       ".datatable .sp {  opacity: 0.25;}\n",
       ".datatable .footer { font-size: 9px; }\n",
       ".datatable .frame_dimensions {  background: var(--jp-border-color3);  border-top: 1px solid var(--jp-border-color0);  color: var(--jp-ui-font-color3);  display: inline-block;  opacity: 0.6;  padding: 1px 10px 1px 5px;}\n",
       "</style>\n"
      ],
      "text/plain": [
       "<IPython.core.display.HTML object>"
      ]
     },
     "metadata": {},
     "output_type": "display_data"
    }
   ],
   "source": [
    "import os\n",
    "import pandas as pd\n",
    "import numpy as np\n",
    "import xgboost as xgb\n",
    "from lightgbm.callback import early_stopping\n",
    "from sklearn.model_selection import KFold, GroupKFold\n",
    "from tqdm import tqdm\n",
    "from sklearn.metrics import mean_squared_error\n",
    "import warnings\n",
    "\n",
    "import math"
   ]
  },
  {
   "cell_type": "code",
   "execution_count": 2,
   "metadata": {
    "execution": {
     "iopub.execute_input": "2022-10-28T19:07:25.206207Z",
     "iopub.status.busy": "2022-10-28T19:07:25.205853Z",
     "iopub.status.idle": "2022-10-28T19:07:25.212040Z",
     "shell.execute_reply": "2022-10-28T19:07:25.210468Z",
     "shell.execute_reply.started": "2022-10-28T19:07:25.206172Z"
    }
   },
   "outputs": [],
   "source": [
    "pd.set_option('display.width', 1000)\n",
    "pd.set_option('display.max_rows', 500)\n",
    "pd.set_option('display.max_columns', 500)\n",
    "warnings.filterwarnings('ignore')\n",
    "\n",
    "path = os.getcwd()"
   ]
  },
  {
   "cell_type": "code",
   "execution_count": 3,
   "metadata": {
    "execution": {
     "iopub.execute_input": "2022-10-28T19:07:25.214197Z",
     "iopub.status.busy": "2022-10-28T19:07:25.213779Z",
     "iopub.status.idle": "2022-10-28T19:07:59.672821Z",
     "shell.execute_reply": "2022-10-28T19:07:59.671724Z",
     "shell.execute_reply.started": "2022-10-28T19:07:25.214149Z"
    }
   },
   "outputs": [],
   "source": [
    "train = pd.read_csv('../input/kddbr2022apk/train_sequence_fold.csv')\n",
    "test = pd.read_csv('../input/kddbr2022apk/test_sequence.csv')\n",
    "df = pd.concat([train, test])\n",
    "\n",
    "features_1 = pd.read_csv('../input/kddbr2022apk/complete_04.csv')\n",
    "features_1 = features_1[[\"Filename\",\"w_std\",\"w_mean\",\"w_median\",\"w_min\",\"w_max\",\"w_var\",\"n_std\",\"n_mean\",\"n_median\",\"n_min\",\"n_max\",\"n_var\",\"d_std\",\"d_mean\",\"d_median\",\"d_min\",\"d_max\",\"d_var\"]]\n",
    "features_1.columns = [\"Filename\",\"_w_std\",\"_w_mean\",\"_w_median\",\"_w_min\",\"_w_max\",\"_w_var\",\"_n_std\",\"_n_mean\",\"_n_median\",\"_n_min\",\"_n_max\",\"_n_var\",\"_d_std\",\"_d_mean\",\"_d_median\",\"_d_min\",\"_d_max\",\"_d_var\"]\n",
    "features_2 = pd.read_csv('../input/kddbr2022apk/complete_05.csv')\n",
    "features_3 = pd.read_csv('../input/kddbr2022apk/complete_06.csv')\n",
    "features_4 = pd.read_csv('../input/kddbr2022apk/complete_12.csv')\n",
    "\n",
    "features = pd.merge(features_1, features_2, on='Filename', how='left')\n",
    "features = pd.merge(features, features_3, on='Filename', how='left')\n",
    "\n",
    "\n",
    "mario_features_tr = pd.read_csv('../input/kddbr2022apk/mario_train_vec_v1.csv')\n",
    "mario_features_ts = pd.read_csv('../input/kddbr2022apk/mario_test_vec_v1.csv')\n",
    "\n",
    "mario_features = pd.concat([mario_features_tr, mario_features_ts])\n",
    "mario_features2 = pd.read_csv('../input/kddbr2022apk/vecs_v3_fe.csv')\n"
   ]
  },
  {
   "cell_type": "code",
   "execution_count": 4,
   "metadata": {
    "execution": {
     "iopub.execute_input": "2022-10-28T19:07:59.675853Z",
     "iopub.status.busy": "2022-10-28T19:07:59.675499Z",
     "iopub.status.idle": "2022-10-28T19:08:01.354114Z",
     "shell.execute_reply": "2022-10-28T19:08:01.352954Z",
     "shell.execute_reply.started": "2022-10-28T19:07:59.675823Z"
    }
   },
   "outputs": [],
   "source": [
    "df = pd.merge(df, features, on='Filename', how='left')\n",
    "df = pd.merge(df, mario_features, on='Filename', how='left')\n",
    "df = pd.merge(df, mario_features2, on='Filename', how='left')\n",
    "#df = pd.merge(df, features_4, on='Filename', how='left')\n",
    "\n",
    "df = df.sort_values(by=['run_id','run_seq_id']).reset_index(drop=True)"
   ]
  },
  {
   "cell_type": "code",
   "execution_count": 5,
   "metadata": {
    "execution": {
     "iopub.execute_input": "2022-10-28T19:08:01.359393Z",
     "iopub.status.busy": "2022-10-28T19:08:01.355614Z",
     "iopub.status.idle": "2022-10-28T19:08:01.500427Z",
     "shell.execute_reply": "2022-10-28T19:08:01.499440Z",
     "shell.execute_reply.started": "2022-10-28T19:08:01.359350Z"
    }
   },
   "outputs": [
    {
     "data": {
      "text/plain": [
       "23"
      ]
     },
     "execution_count": 5,
     "metadata": {},
     "output_type": "execute_result"
    }
   ],
   "source": [
    "import gc\n",
    "del features, mario_features, mario_features2, features_4, features_2, features_3, features_1\n",
    "gc.collect()"
   ]
  },
  {
   "cell_type": "code",
   "execution_count": 6,
   "metadata": {
    "execution": {
     "iopub.execute_input": "2022-10-28T19:08:01.502416Z",
     "iopub.status.busy": "2022-10-28T19:08:01.501956Z",
     "iopub.status.idle": "2022-10-28T19:11:17.258597Z",
     "shell.execute_reply": "2022-10-28T19:11:17.257388Z",
     "shell.execute_reply.started": "2022-10-28T19:08:01.502378Z"
    }
   },
   "outputs": [
    {
     "name": "stderr",
     "output_type": "stream",
     "text": [
      "100%|██████████| 42/42 [03:15<00:00,  4.66s/it]\n"
     ]
    }
   ],
   "source": [
    "df['sqrt_altitude'] = np.sqrt(df['Altitude'])\n",
    "df['sqrt_delta'] = np.sqrt(df['Delta'])\n",
    "df['sqrt_altitude_delta'] = np.sqrt(df['Altitude'] + df['Delta'])\n",
    "\n",
    "df['pow2_altitude'] = (df['Altitude'] ** 2)\n",
    "df['pow2_delta'] = (df['Delta'] ** 2)\n",
    "df['pow2_altitude_delta'] = (df['Altitude'] + df['Delta']) ** 2\n",
    "\n",
    "df['log_Altitude'] = np.log(df['Altitude'])\n",
    "df['log_Delta'] = np.log(df['Delta'])\n",
    "df['log_base_05_n_mean'] = np.log(df['base_05_n_mean'])\n",
    "\n",
    "df['pow13_Altitude'] = df['Altitude'] ** (1/3)\n",
    "df['pow13_Delta'] = df['Delta'] ** (1/3)\n",
    "df['pow13_base_05_n_mean'] = df['base_05_n_mean'] ** (1/3)\n",
    "\n",
    "tgt_columns = [\n",
    "    'Delta', 'Altitude', 'log_Altitude', 'log_Delta', 'pow13_Altitude', 'pow13_Delta', 'log_base_05_n_mean', 'pow13_base_05_n_mean',\n",
    "    'base_05_n_mean', '_n_mean', 'base_05_f05_H_1', 'base_05_n_median', 'base_05_n_max', 'base_05_n_min', 'base_05_f05_H_4', 'x', 'base_05_f05_H_25', 'base_05_f05_H_7', 'x_mean', 'x1_mean', 'x2_mean',\n",
    "    'base_05_w_mean', '_w_mean', 'base_05_f05_W_21', 'base_05_w_median', 'base_05_w_max', 'base_05_w_min', 'base_05_f05_W_18', 'y', 'base_05_f05_W_6', 'base_05_f05_W_0', 'y_mean', 'y1_mean', 'y2_mean',\n",
    "    'base_06_n_mean', 'base_06_f06_H_1', 'base_06_n_median', 'base_06_n_max',\n",
    "    'base_06_w_mean', 'base_06_f06_W_21', 'base_06_w_median', 'base_06_w_max'\n",
    "]\n",
    "\n",
    "seq_win = [15,25,30,50,75]\n",
    "nxt_sft_win = [5,10,15, 20]\n",
    "\n",
    "for col in tqdm(tgt_columns):\n",
    "    for win in nxt_sft_win:\n",
    "        df['shift'+str(win)+'_'+col] = df.groupby('run_id')[col].shift(win).reset_index(0,drop=True)\n",
    "        df['next'+str(win)+'_'+col] = df.groupby('run_id')[col].shift(-win).reset_index(0,drop=True)\n",
    "        df['seq_diff_last'+str(win)+'_'+col] = df.groupby('run_id')[col].diff(win).reset_index(0,drop=True)\n",
    "        df['seq_diff_next'+str(win)+'_'+col] = df.groupby('run_id')[col].diff(-win).reset_index(0,drop=True)\n",
    "    \n",
    "    for win in seq_win:\n",
    "        df['seq_avg_w'+str(win)+'_'+col] = df.groupby('run_id')[col].rolling(win).mean().reset_index(0,drop=True)\n",
    "        df['seq_std_w'+str(win)+'_'+col] = df.groupby('run_id')[col].rolling(win).std().reset_index(0,drop=True)\n",
    "        df['seq_max_w'+str(win)+'_'+col] = df.groupby('run_id')[col].rolling(win).max().reset_index(0,drop=True)\n",
    "        df['seq_min_w'+str(win)+'_'+col] = df.groupby('run_id')[col].rolling(win).min().reset_index(0,drop=True)\n",
    "        df['seq_skew_w'+str(win)+'_'+col] = df.groupby('run_id')[col].rolling(win).skew().reset_index(0,drop=True)\n",
    "    \n",
    "    \n",
    "#     df['seq_div_last1_'+col] = df[col] / df['shift1_'+col]\n",
    "#     df['seq_div_next1_'+col] = df[col] / df['next1_'+col]\n",
    "#     df['seq_div_last2_'+col] = df[col] / df['shift2_'+col]\n",
    "#     df['seq_div_next2_'+col] = df[col] / df['next2_'+col]\n",
    "#     df['seq_div_last3_'+col] = df[col] / df['shift3_'+col]\n",
    "#     df['seq_div_next3_'+col] = df[col] / df['next3_'+col]\n",
    "    \n",
    "    df['seq_min_'+col] = df.groupby('run_id')[col].transform('min')\n",
    "    df['seq_max_'+col] = df.groupby('run_id')[col].transform('max')\n",
    "    df['seq_std_'+col] = df.groupby('run_id')[col].transform('std')\n",
    "    df['seq_avg_'+col] = df.groupby('run_id')[col].transform('mean')\n",
    "\n",
    "# df['r_vetorial_now'] = (df['base_05_n_mean'] ** 2) + (df['base_05_w_mean'] ** 2)\n",
    "# df['shift_r_vetorial'] = (df['shift1_base_05_n_mean'] ** 2) + (df['shift1_base_05_w_mean'] ** 2)\n",
    "# df['shift2_r_vetorial'] = (df['shift2_base_05_n_mean'] ** 2) + (df['shift2_base_05_w_mean'] ** 2)\n",
    "# df['next_r_vetorial'] = (df['next1_base_05_n_mean'] ** 2) + (df['next1_base_05_w_mean'] ** 2)\n",
    "# df['next2_r_vetorial'] = (df['next2_base_05_n_mean'] ** 2) + (df['next2_base_05_w_mean'] ** 2)\n",
    "# df['avg_shift_r_vet'] = (df['r_vetorial_now'] + df['shift_r_vetorial'] + df['shift2_r_vetorial']) / 3\n",
    "# df['avg_next_r_vet'] = (df['r_vetorial_now'] + df['next_r_vetorial'] + df['next2_r_vetorial']) / 3\n",
    "# df['avg_all_r_vet'] = (df['r_vetorial_now'] + df['next_r_vetorial'] + df['next2_r_vetorial'] + df['shift_r_vetorial'] + df['shift2_r_vetorial']) / 5\n",
    "\n",
    "# df['div_r_next2_next'] = df['next2_r_vetorial'] / df['next_r_vetorial']\n",
    "# df['div_r_next_now'] = df['next_r_vetorial'] / df['r_vetorial_now']\n",
    "# df['div_r_now_shift'] = df['r_vetorial_now'] / df['shift_r_vetorial']\n",
    "# df['div_r_shift1_shift2'] = df['shift_r_vetorial'] / df['shift2_r_vetorial']\n",
    "# df['avg_div_r'] = (df['div_r_next2_next'] + df['div_r_next_now'] + df['div_r_now_shift'] + df['div_r_shift1_shift2']) / 4"
   ]
  },
  {
   "cell_type": "code",
   "execution_count": 7,
   "metadata": {
    "execution": {
     "iopub.execute_input": "2022-10-28T19:11:17.266075Z",
     "iopub.status.busy": "2022-10-28T19:11:17.263530Z",
     "iopub.status.idle": "2022-10-28T19:11:17.274898Z",
     "shell.execute_reply": "2022-10-28T19:11:17.273678Z",
     "shell.execute_reply.started": "2022-10-28T19:11:17.266031Z"
    }
   },
   "outputs": [
    {
     "name": "stdout",
     "output_type": "stream",
     "text": [
      "(146262, 2070)\n"
     ]
    }
   ],
   "source": [
    "print(df.shape)"
   ]
  },
  {
   "cell_type": "code",
   "execution_count": 8,
   "metadata": {
    "execution": {
     "iopub.execute_input": "2022-10-28T19:11:17.280534Z",
     "iopub.status.busy": "2022-10-28T19:11:17.279711Z",
     "iopub.status.idle": "2022-10-28T19:11:22.425882Z",
     "shell.execute_reply": "2022-10-28T19:11:22.424909Z",
     "shell.execute_reply.started": "2022-10-28T19:11:17.280491Z"
    }
   },
   "outputs": [],
   "source": [
    "train = df.loc[~df.North.isnull(), :].sort_values(by=['run_id', 'run_seq_id']).reset_index(drop=True)\n",
    "test = df.loc[df.North.isnull(), :].sort_values(by=['run_id', 'run_seq_id']).reset_index(drop=True)"
   ]
  },
  {
   "cell_type": "code",
   "execution_count": 9,
   "metadata": {
    "execution": {
     "iopub.execute_input": "2022-10-28T19:11:22.427888Z",
     "iopub.status.busy": "2022-10-28T19:11:22.427496Z",
     "iopub.status.idle": "2022-10-28T19:11:22.553335Z",
     "shell.execute_reply": "2022-10-28T19:11:22.552121Z",
     "shell.execute_reply.started": "2022-10-28T19:11:22.427857Z"
    }
   },
   "outputs": [
    {
     "data": {
      "text/plain": [
       "23"
      ]
     },
     "execution_count": 9,
     "metadata": {},
     "output_type": "execute_result"
    }
   ],
   "source": [
    "import gc\n",
    "del df\n",
    "gc.collect()"
   ]
  },
  {
   "cell_type": "code",
   "execution_count": 10,
   "metadata": {
    "execution": {
     "iopub.execute_input": "2022-10-28T19:11:22.558307Z",
     "iopub.status.busy": "2022-10-28T19:11:22.557963Z",
     "iopub.status.idle": "2022-10-28T19:11:22.564320Z",
     "shell.execute_reply": "2022-10-28T19:11:22.563191Z",
     "shell.execute_reply.started": "2022-10-28T19:11:22.558278Z"
    }
   },
   "outputs": [],
   "source": [
    "train_columns = [col for col in train.columns if col not in ['Filename', 'North', 'East', 'fold', 'run_id', 'run_seq_id']]"
   ]
  },
  {
   "cell_type": "code",
   "execution_count": 11,
   "metadata": {
    "execution": {
     "iopub.execute_input": "2022-10-28T19:11:22.566610Z",
     "iopub.status.busy": "2022-10-28T19:11:22.565664Z",
     "iopub.status.idle": "2022-10-28T19:11:22.575372Z",
     "shell.execute_reply": "2022-10-28T19:11:22.574417Z",
     "shell.execute_reply.started": "2022-10-28T19:11:22.566574Z"
    }
   },
   "outputs": [],
   "source": [
    "n_folds = 5\n",
    "\n",
    "north_oof_preds = np.zeros(len(train))\n",
    "east_oof_preds = np.zeros(len(train))\n",
    "\n",
    "north_test_preds = np.zeros(len(test))\n",
    "east_test_preds = np.zeros(len(test))\n",
    "\n",
    "targets = ['North', 'East']"
   ]
  },
  {
   "cell_type": "code",
   "execution_count": 12,
   "metadata": {
    "execution": {
     "iopub.execute_input": "2022-10-28T19:11:22.577636Z",
     "iopub.status.busy": "2022-10-28T19:11:22.576950Z",
     "iopub.status.idle": "2022-10-28T19:11:24.876380Z",
     "shell.execute_reply": "2022-10-28T19:11:24.875401Z",
     "shell.execute_reply.started": "2022-10-28T19:11:22.577574Z"
    }
   },
   "outputs": [],
   "source": [
    "train = train.replace([np.inf, -np.inf], np.nan)\n",
    "#trn_x = trn_x.fillna(-999)\n",
    "test = test.replace([np.inf, -np.inf], np.nan)"
   ]
  },
  {
   "cell_type": "code",
   "execution_count": 13,
   "metadata": {
    "execution": {
     "iopub.execute_input": "2022-10-28T19:11:24.878504Z",
     "iopub.status.busy": "2022-10-28T19:11:24.877887Z",
     "iopub.status.idle": "2022-10-28T19:23:13.538943Z",
     "shell.execute_reply": "2022-10-28T19:23:13.537091Z",
     "shell.execute_reply.started": "2022-10-28T19:11:24.878461Z"
    }
   },
   "outputs": [
    {
     "name": "stdout",
     "output_type": "stream",
     "text": [
      "Fold: 1.0\n",
      "Iteration: 1\n",
      "[0]\ttrain-rmse:1.17627\tvalid-rmse:1.17066\n",
      "[200]\ttrain-rmse:0.18038\tvalid-rmse:0.26919\n",
      "[400]\ttrain-rmse:0.15165\tvalid-rmse:0.26629\n",
      "[600]\ttrain-rmse:0.13227\tvalid-rmse:0.26472\n",
      "[800]\ttrain-rmse:0.11810\tvalid-rmse:0.26374\n",
      "[1000]\ttrain-rmse:0.10652\tvalid-rmse:0.26323\n",
      "[1200]\ttrain-rmse:0.09683\tvalid-rmse:0.26282\n",
      "[1400]\ttrain-rmse:0.08861\tvalid-rmse:0.26258\n",
      "[1600]\ttrain-rmse:0.08152\tvalid-rmse:0.26245\n",
      "[1800]\ttrain-rmse:0.07544\tvalid-rmse:0.26254\n",
      "[1831]\ttrain-rmse:0.07446\tvalid-rmse:0.26260\n",
      "FOLD RMSE = 0.2626242081701347\n",
      "Fold: 2.0\n",
      "Iteration: 1\n",
      "[0]\ttrain-rmse:1.16270\tvalid-rmse:1.23324\n",
      "[200]\ttrain-rmse:0.18100\tvalid-rmse:0.31825\n",
      "[400]\ttrain-rmse:0.14955\tvalid-rmse:0.31393\n",
      "[600]\ttrain-rmse:0.13057\tvalid-rmse:0.31258\n",
      "[800]\ttrain-rmse:0.11567\tvalid-rmse:0.31241\n",
      "[903]\ttrain-rmse:0.10965\tvalid-rmse:0.31266\n",
      "FOLD RMSE = 0.31265782614404103\n",
      "Fold: 3.0\n",
      "Iteration: 1\n",
      "[0]\ttrain-rmse:1.18535\tvalid-rmse:1.13009\n",
      "[200]\ttrain-rmse:0.18626\tvalid-rmse:0.27354\n",
      "[400]\ttrain-rmse:0.15898\tvalid-rmse:0.27250\n",
      "[482]\ttrain-rmse:0.15151\tvalid-rmse:0.27339\n",
      "FOLD RMSE = 0.27339389693470834\n",
      "Fold: 4.0\n",
      "Iteration: 1\n",
      "[0]\ttrain-rmse:1.17435\tvalid-rmse:1.18098\n",
      "[200]\ttrain-rmse:0.11354\tvalid-rmse:0.45191\n",
      "[400]\ttrain-rmse:0.08528\tvalid-rmse:0.44801\n",
      "[600]\ttrain-rmse:0.06882\tvalid-rmse:0.44650\n",
      "[800]\ttrain-rmse:0.05833\tvalid-rmse:0.44580\n",
      "[1000]\ttrain-rmse:0.05072\tvalid-rmse:0.44544\n",
      "[1200]\ttrain-rmse:0.04545\tvalid-rmse:0.44523\n",
      "[1400]\ttrain-rmse:0.04127\tvalid-rmse:0.44513\n",
      "[1600]\ttrain-rmse:0.03769\tvalid-rmse:0.44488\n",
      "[1800]\ttrain-rmse:0.03473\tvalid-rmse:0.44487\n",
      "[1803]\ttrain-rmse:0.03470\tvalid-rmse:0.44486\n",
      "FOLD RMSE = 0.4448624898059594\n",
      "Fold: 5.0\n",
      "Iteration: 1\n",
      "[0]\ttrain-rmse:1.17612\tvalid-rmse:1.17984\n",
      "[200]\ttrain-rmse:0.18469\tvalid-rmse:0.30186\n",
      "[400]\ttrain-rmse:0.15435\tvalid-rmse:0.29753\n",
      "[600]\ttrain-rmse:0.13476\tvalid-rmse:0.29596\n",
      "[800]\ttrain-rmse:0.12087\tvalid-rmse:0.29633\n",
      "[803]\ttrain-rmse:0.12052\tvalid-rmse:0.29630\n",
      "FOLD RMSE = 0.29630483684713466\n",
      "############################################################\n",
      "North - MEAN RMSE = 0.3179686515803956\n",
      "North - OOF RMSE = 0.3247053454016631\n",
      "[0.2626242081701347, 0.31265782614404103, 0.27339389693470834, 0.4448624898059594, 0.29630483684713466]\n",
      "Fold: 1.0\n",
      "Iteration: 1\n",
      "[0]\ttrain-rmse:1.14468\tvalid-rmse:1.17151\n",
      "[200]\ttrain-rmse:0.12412\tvalid-rmse:0.25691\n",
      "[400]\ttrain-rmse:0.09712\tvalid-rmse:0.25331\n",
      "[600]\ttrain-rmse:0.08268\tvalid-rmse:0.25237\n",
      "[800]\ttrain-rmse:0.07171\tvalid-rmse:0.25211\n",
      "[1000]\ttrain-rmse:0.06366\tvalid-rmse:0.25141\n",
      "[1200]\ttrain-rmse:0.05791\tvalid-rmse:0.25146\n",
      "[1206]\ttrain-rmse:0.05775\tvalid-rmse:0.25144\n",
      "FOLD RMSE = 0.25145886403971013\n",
      "Fold: 2.0\n",
      "Iteration: 1\n",
      "[0]\ttrain-rmse:1.14387\tvalid-rmse:1.17288\n",
      "[200]\ttrain-rmse:0.12113\tvalid-rmse:0.28724\n",
      "[400]\ttrain-rmse:0.09552\tvalid-rmse:0.28527\n",
      "[600]\ttrain-rmse:0.08089\tvalid-rmse:0.28388\n",
      "[800]\ttrain-rmse:0.07082\tvalid-rmse:0.28323\n",
      "[1000]\ttrain-rmse:0.06271\tvalid-rmse:0.28263\n",
      "[1200]\ttrain-rmse:0.05700\tvalid-rmse:0.28267\n",
      "[1328]\ttrain-rmse:0.05349\tvalid-rmse:0.28272\n",
      "FOLD RMSE = 0.2827248475711915\n",
      "Fold: 3.0\n",
      "Iteration: 1\n",
      "[0]\ttrain-rmse:1.13035\tvalid-rmse:1.22431\n",
      "[200]\ttrain-rmse:0.12456\tvalid-rmse:0.26263\n",
      "[400]\ttrain-rmse:0.09891\tvalid-rmse:0.25959\n",
      "[600]\ttrain-rmse:0.08358\tvalid-rmse:0.25816\n",
      "[800]\ttrain-rmse:0.07355\tvalid-rmse:0.25733\n",
      "[1000]\ttrain-rmse:0.06612\tvalid-rmse:0.25695\n",
      "[1200]\ttrain-rmse:0.06012\tvalid-rmse:0.25696\n",
      "[1244]\ttrain-rmse:0.05894\tvalid-rmse:0.25702\n",
      "FOLD RMSE = 0.2570201456230254\n",
      "Fold: 4.0\n",
      "Iteration: 1\n",
      "[0]\ttrain-rmse:1.17243\tvalid-rmse:1.05276\n",
      "[200]\ttrain-rmse:0.11325\tvalid-rmse:0.28253\n",
      "[400]\ttrain-rmse:0.08532\tvalid-rmse:0.27983\n",
      "[600]\ttrain-rmse:0.06923\tvalid-rmse:0.27830\n",
      "[800]\ttrain-rmse:0.05886\tvalid-rmse:0.27782\n",
      "[1000]\ttrain-rmse:0.05153\tvalid-rmse:0.27767\n",
      "[1200]\ttrain-rmse:0.04611\tvalid-rmse:0.27786\n",
      "[1216]\ttrain-rmse:0.04569\tvalid-rmse:0.27783\n",
      "FOLD RMSE = 0.27782681278914284\n",
      "Fold: 5.0\n",
      "Iteration: 1\n",
      "[0]\ttrain-rmse:1.15523\tvalid-rmse:1.13358\n",
      "[200]\ttrain-rmse:0.12493\tvalid-rmse:0.30177\n",
      "[400]\ttrain-rmse:0.09754\tvalid-rmse:0.29812\n",
      "[600]\ttrain-rmse:0.08261\tvalid-rmse:0.29681\n",
      "[800]\ttrain-rmse:0.07228\tvalid-rmse:0.29630\n",
      "[1000]\ttrain-rmse:0.06420\tvalid-rmse:0.29560\n",
      "[1200]\ttrain-rmse:0.05773\tvalid-rmse:0.29528\n",
      "[1400]\ttrain-rmse:0.05273\tvalid-rmse:0.29510\n",
      "[1600]\ttrain-rmse:0.04860\tvalid-rmse:0.29504\n",
      "[1672]\ttrain-rmse:0.04730\tvalid-rmse:0.29503\n",
      "FOLD RMSE = 0.2950257452351493\n",
      "############################################################\n",
      "East - MEAN RMSE = 0.2728112830516438\n",
      "East - OOF RMSE = 0.27329528178733886\n",
      "[0.25145886403971013, 0.2827248475711915, 0.2570201456230254, 0.27782681278914284, 0.2950257452351493]\n",
      "CPU times: user 13min 8s, sys: 28.8 s, total: 13min 37s\n",
      "Wall time: 11min 48s\n"
     ]
    }
   ],
   "source": [
    "%%time\n",
    "for target in targets:\n",
    "    y = train[target]\n",
    "    oof_preds = np.zeros(len(train))\n",
    "    test_preds_fold = np.zeros(len(test))\n",
    "    score_folds  = []\n",
    "\n",
    "    # folds = GroupKFold(n_splits=n_folds)\n",
    "    # for fold_, (trn_, val_) in enumerate(folds.split(y, y, train.run_id)):\n",
    "    for fold_ in train.fold.sort_values().unique():\n",
    "        print(\"Fold: {}\".format(fold_))\n",
    "\n",
    "        trn_ = train.loc[train.fold != fold_].index\n",
    "        val_ = train.loc[train.fold == fold_].index\n",
    "\n",
    "        trn_x, trn_y = train.loc[trn_, train_columns], y.loc[trn_]\n",
    "        val_x, val_y = train.loc[val_, train_columns], y.loc[val_]\n",
    "        \n",
    "        dtrain = xgb.DMatrix(trn_x, trn_y)\n",
    "        dvalid = xgb.DMatrix(val_x, val_y)\n",
    "        \n",
    "        watchlist = [(dtrain, 'train'), (dvalid, 'valid')]\n",
    "        \n",
    "        params = {\n",
    "          'objective': \"reg:squarederror\", #\"reg:logistic\",\n",
    "          'booster': \"gbtree\",\n",
    "          'eval_metric': 'rmse', \n",
    "          'colsample_bytree': 0.65,\n",
    "          'subsample': 0.65,\n",
    "          'eta': 0.1,\n",
    "          'max_depth': 7,\n",
    "          'min_child_weight': 100, \n",
    "          'max_bin': 50,\n",
    "          'nthread':-1,\n",
    "          'seed': 456,\n",
    "          'tree_method': 'gpu_hist'\n",
    "        }\n",
    "        \n",
    "        execs = 1\n",
    "        preds = np.zeros(len(val_x))\n",
    "        test_preds_exec = np.zeros(len(test))\n",
    "        \n",
    "        for p in range(0,execs):\n",
    "            print(\"Iteration: {}\".format(p+1))\n",
    "            params['seed'] += p\n",
    "            model = xgb.train(params, dtrain, \n",
    "                               10000, watchlist, \n",
    "                               maximize=False, \n",
    "                               early_stopping_rounds = 200, \n",
    "                               verbose_eval=200)\n",
    "                            #early_stopping_rounds = 1000)\n",
    "            del dtrain, dvalid, trn_x\n",
    "            gc.collect()\n",
    "            preds += ((model.predict(xgb.DMatrix(val_x))) / execs)\n",
    "            test_preds_exec += ((model.predict(xgb.DMatrix(test[train_columns]))) / execs)\n",
    "\n",
    "        test_preds_fold += (test_preds_exec / n_folds)\n",
    "        oof_preds[val_] = preds\n",
    "        score_folds.append(np.sqrt(mean_squared_error(val_y, preds)))\n",
    "        print(\"FOLD RMSE = {}\".format(np.sqrt(mean_squared_error(val_y, preds))))\n",
    "        del model, val_x\n",
    "        gc.collect()\n",
    "\n",
    "    print(\"############################################################\")\n",
    "    print(\"{} - MEAN RMSE = {}\".format(target, np.mean(score_folds)))\n",
    "    print(\"{} - OOF RMSE = {}\".format(target, np.sqrt(mean_squared_error(y, oof_preds))))\n",
    "    print(score_folds)\n",
    "\n",
    "    if target == 'North':\n",
    "        north_oof_preds = oof_preds\n",
    "        north_test_preds = test_preds_fold\n",
    "    else:\n",
    "        east_oof_preds = oof_preds\n",
    "        east_test_preds = test_preds_fold"
   ]
  },
  {
   "cell_type": "code",
   "execution_count": 14,
   "metadata": {
    "execution": {
     "iopub.execute_input": "2022-10-28T19:23:13.540818Z",
     "iopub.status.busy": "2022-10-28T19:23:13.540470Z",
     "iopub.status.idle": "2022-10-28T19:23:13.548174Z",
     "shell.execute_reply": "2022-10-28T19:23:13.547250Z",
     "shell.execute_reply.started": "2022-10-28T19:23:13.540783Z"
    }
   },
   "outputs": [],
   "source": [
    "all_preds = np.concatenate([north_oof_preds, east_oof_preds])\n",
    "all_target = np.concatenate([train.North, train.East])"
   ]
  },
  {
   "cell_type": "code",
   "execution_count": 15,
   "metadata": {
    "execution": {
     "iopub.execute_input": "2022-10-28T19:23:13.550086Z",
     "iopub.status.busy": "2022-10-28T19:23:13.549629Z",
     "iopub.status.idle": "2022-10-28T19:23:13.557999Z",
     "shell.execute_reply": "2022-10-28T19:23:13.557082Z",
     "shell.execute_reply.started": "2022-10-28T19:23:13.550049Z"
    }
   },
   "outputs": [
    {
     "name": "stdout",
     "output_type": "stream",
     "text": [
      "ALL - OOF RMSE = 0.30010320922945355\n"
     ]
    }
   ],
   "source": [
    "print(\"ALL - OOF RMSE = {}\".format(np.sqrt(mean_squared_error(all_target, all_preds))))"
   ]
  },
  {
   "cell_type": "code",
   "execution_count": 16,
   "metadata": {
    "execution": {
     "iopub.execute_input": "2022-10-28T19:23:13.560325Z",
     "iopub.status.busy": "2022-10-28T19:23:13.559365Z",
     "iopub.status.idle": "2022-10-28T19:23:13.872229Z",
     "shell.execute_reply": "2022-10-28T19:23:13.871296Z",
     "shell.execute_reply.started": "2022-10-28T19:23:13.560285Z"
    }
   },
   "outputs": [],
   "source": [
    "sub_oof = pd.DataFrame({\n",
    "    'Filename': train.Filename,\n",
    "    'oof_north': north_oof_preds,\n",
    "    'oof_east': east_oof_preds\n",
    "})\n",
    "\n",
    "sub_oof.to_csv('oof_xgb_seq_011.csv', index=False)"
   ]
  },
  {
   "cell_type": "code",
   "execution_count": 17,
   "metadata": {
    "execution": {
     "iopub.execute_input": "2022-10-28T19:23:13.873939Z",
     "iopub.status.busy": "2022-10-28T19:23:13.873578Z",
     "iopub.status.idle": "2022-10-28T19:23:13.881680Z",
     "shell.execute_reply": "2022-10-28T19:23:13.880740Z",
     "shell.execute_reply.started": "2022-10-28T19:23:13.873902Z"
    }
   },
   "outputs": [],
   "source": [
    "sub_north_test = pd.DataFrame({\n",
    "    'Id': test.Filename,\n",
    "    'Predicted': north_test_preds\n",
    "})\n",
    "\n",
    "sub_east_test = pd.DataFrame({\n",
    "    'Id': test.Filename,\n",
    "    'Predicted': east_test_preds\n",
    "})"
   ]
  },
  {
   "cell_type": "code",
   "execution_count": 18,
   "metadata": {
    "execution": {
     "iopub.execute_input": "2022-10-28T19:23:13.884095Z",
     "iopub.status.busy": "2022-10-28T19:23:13.883078Z",
     "iopub.status.idle": "2022-10-28T19:23:13.911852Z",
     "shell.execute_reply": "2022-10-28T19:23:13.910845Z",
     "shell.execute_reply.started": "2022-10-28T19:23:13.884058Z"
    }
   },
   "outputs": [],
   "source": [
    "sub_north_test.Id = sub_north_test['Id'].astype(str) + ':North'\n",
    "sub_east_test.Id  = sub_east_test['Id'].astype(str) + ':East'\n",
    "\n",
    "sub_all_test = pd.concat([sub_north_test, sub_east_test])"
   ]
  },
  {
   "cell_type": "code",
   "execution_count": 19,
   "metadata": {
    "execution": {
     "iopub.execute_input": "2022-10-28T19:23:13.913842Z",
     "iopub.status.busy": "2022-10-28T19:23:13.913472Z",
     "iopub.status.idle": "2022-10-28T19:23:14.174618Z",
     "shell.execute_reply": "2022-10-28T19:23:14.173647Z",
     "shell.execute_reply.started": "2022-10-28T19:23:13.913806Z"
    }
   },
   "outputs": [],
   "source": [
    "sub_all_test[['Id', 'Predicted']].to_csv('sub_xgb_seq_011.csv', index=False)"
   ]
  },
  {
   "cell_type": "code",
   "execution_count": 20,
   "metadata": {
    "execution": {
     "iopub.execute_input": "2022-10-28T19:23:14.176264Z",
     "iopub.status.busy": "2022-10-28T19:23:14.175886Z",
     "iopub.status.idle": "2022-10-28T19:23:14.192259Z",
     "shell.execute_reply": "2022-10-28T19:23:14.191244Z",
     "shell.execute_reply.started": "2022-10-28T19:23:14.176226Z"
    }
   },
   "outputs": [
    {
     "data": {
      "text/html": [
       "<div>\n",
       "<style scoped>\n",
       "    .dataframe tbody tr th:only-of-type {\n",
       "        vertical-align: middle;\n",
       "    }\n",
       "\n",
       "    .dataframe tbody tr th {\n",
       "        vertical-align: top;\n",
       "    }\n",
       "\n",
       "    .dataframe thead th {\n",
       "        text-align: right;\n",
       "    }\n",
       "</style>\n",
       "<table border=\"1\" class=\"dataframe\">\n",
       "  <thead>\n",
       "    <tr style=\"text-align: right;\">\n",
       "      <th></th>\n",
       "      <th>Id</th>\n",
       "      <th>Predicted</th>\n",
       "    </tr>\n",
       "  </thead>\n",
       "  <tbody>\n",
       "    <tr>\n",
       "      <th>0</th>\n",
       "      <td>0f57a863af3b7e5bf59a94319a408ff7.jpg:North</td>\n",
       "      <td>-0.416164</td>\n",
       "    </tr>\n",
       "    <tr>\n",
       "      <th>1</th>\n",
       "      <td>b7d4e3a6acb3b956d8b09416958e8892.jpg:North</td>\n",
       "      <td>-0.451613</td>\n",
       "    </tr>\n",
       "    <tr>\n",
       "      <th>2</th>\n",
       "      <td>9a1bd630a47dabafa6f4cab7338d01df.jpg:North</td>\n",
       "      <td>-0.477531</td>\n",
       "    </tr>\n",
       "    <tr>\n",
       "      <th>3</th>\n",
       "      <td>3f6ebf8aef0f352720bc0cb534d878b6.jpg:North</td>\n",
       "      <td>-0.494440</td>\n",
       "    </tr>\n",
       "    <tr>\n",
       "      <th>4</th>\n",
       "      <td>7e810f05bd88ff0f86dce7116b9fa527.jpg:North</td>\n",
       "      <td>-0.456365</td>\n",
       "    </tr>\n",
       "    <tr>\n",
       "      <th>...</th>\n",
       "      <td>...</td>\n",
       "      <td>...</td>\n",
       "    </tr>\n",
       "    <tr>\n",
       "      <th>55026</th>\n",
       "      <td>fc65c23ae61ce2c6fdbc637a8296d1d7.jpg:East</td>\n",
       "      <td>1.183965</td>\n",
       "    </tr>\n",
       "    <tr>\n",
       "      <th>55027</th>\n",
       "      <td>fc6c0d99ec42bad5e2d5fbb1e71c5a50.jpg:East</td>\n",
       "      <td>0.987439</td>\n",
       "    </tr>\n",
       "    <tr>\n",
       "      <th>55028</th>\n",
       "      <td>fdbb732633c6a3d32a67fc56edc7cde4.jpg:East</td>\n",
       "      <td>-0.518844</td>\n",
       "    </tr>\n",
       "    <tr>\n",
       "      <th>55029</th>\n",
       "      <td>feac1b902c7487dcbdf298bd4be75690.jpg:East</td>\n",
       "      <td>-0.592988</td>\n",
       "    </tr>\n",
       "    <tr>\n",
       "      <th>55030</th>\n",
       "      <td>ff76ffce183c11f84489bbd0a34a2fcf.jpg:East</td>\n",
       "      <td>-1.089713</td>\n",
       "    </tr>\n",
       "  </tbody>\n",
       "</table>\n",
       "<p>110062 rows × 2 columns</p>\n",
       "</div>"
      ],
      "text/plain": [
       "                                               Id  Predicted\n",
       "0      0f57a863af3b7e5bf59a94319a408ff7.jpg:North  -0.416164\n",
       "1      b7d4e3a6acb3b956d8b09416958e8892.jpg:North  -0.451613\n",
       "2      9a1bd630a47dabafa6f4cab7338d01df.jpg:North  -0.477531\n",
       "3      3f6ebf8aef0f352720bc0cb534d878b6.jpg:North  -0.494440\n",
       "4      7e810f05bd88ff0f86dce7116b9fa527.jpg:North  -0.456365\n",
       "...                                           ...        ...\n",
       "55026   fc65c23ae61ce2c6fdbc637a8296d1d7.jpg:East   1.183965\n",
       "55027   fc6c0d99ec42bad5e2d5fbb1e71c5a50.jpg:East   0.987439\n",
       "55028   fdbb732633c6a3d32a67fc56edc7cde4.jpg:East  -0.518844\n",
       "55029   feac1b902c7487dcbdf298bd4be75690.jpg:East  -0.592988\n",
       "55030   ff76ffce183c11f84489bbd0a34a2fcf.jpg:East  -1.089713\n",
       "\n",
       "[110062 rows x 2 columns]"
      ]
     },
     "execution_count": 20,
     "metadata": {},
     "output_type": "execute_result"
    }
   ],
   "source": [
    "sub_all_test"
   ]
  },
  {
   "cell_type": "code",
   "execution_count": null,
   "metadata": {},
   "outputs": [],
   "source": []
  }
 ],
 "metadata": {
  "kernelspec": {
   "display_name": "Python 3",
   "language": "python",
   "name": "python3"
  },
  "language_info": {
   "codemirror_mode": {
    "name": "ipython",
    "version": 3
   },
   "file_extension": ".py",
   "mimetype": "text/x-python",
   "name": "python",
   "nbconvert_exporter": "python",
   "pygments_lexer": "ipython3",
   "version": "3.8.8"
  }
 },
 "nbformat": 4,
 "nbformat_minor": 4
}
