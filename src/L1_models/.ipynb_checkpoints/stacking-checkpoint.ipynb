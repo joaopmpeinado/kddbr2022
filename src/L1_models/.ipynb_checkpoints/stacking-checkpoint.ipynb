{
 "cells": [
  {
   "cell_type": "code",
   "execution_count": null,
   "metadata": {},
   "outputs": [],
   "source": [
    "import os\n",
    "import pandas as pd\n",
    "import numpy as np\n",
    "import lightgbm as lgb\n",
    "from sklearn.linear_model import LinearRegression\n",
    "from lightgbm.callback import early_stopping\n",
    "from tqdm import tqdm\n",
    "from sklearn.metrics import mean_squared_error\n",
    "import warnings\n",
    "import math"
   ]
  },
  {
   "cell_type": "code",
   "execution_count": null,
   "metadata": {},
   "outputs": [],
   "source": [
    "pd.set_option('display.width', 1000)\n",
    "pd.set_option('display.max_rows', 500)\n",
    "pd.set_option('display.max_columns', 500)\n",
    "warnings.filterwarnings('ignore')\n",
    "\n",
    "path = os.getcwd()"
   ]
  },
  {
   "cell_type": "code",
   "execution_count": null,
   "metadata": {},
   "outputs": [],
   "source": [
    "train = pd.read_csv('../../input/train_sequence_fold.csv')\n",
    "test = pd.read_csv('../../input/test_sequence.csv')\n"
   ]
  },
  {
   "cell_type": "code",
   "execution_count": null,
   "metadata": {},
   "outputs": [],
   "source": [
    "models = [\n",
    "    'xgb_seq_001', 'xgb_seq_002', 'xgb_seq_003', 'xgb_seq_004', 'xgb_seq_005', 'xgb_seq_006', 'xgb_seq_008', 'xgb_seq_009', 'xgb_seq_011',\n",
    "    'lgb_seq_003',\n",
    "    'cat_seq_001', 'cat_seq_003',\n",
    "    'cat_onlylag', 'xgb_onlylag'\n",
    "]"
   ]
  },
  {
   "cell_type": "code",
   "execution_count": null,
   "metadata": {},
   "outputs": [],
   "source": [
    "for model_name in models:\n",
    "    oof_df = pd.read_csv('../../output/oof_'+model_name+'.csv')\n",
    "    oof_df.columns = ['Filename', model_name+'_north', model_name+'_east']\n",
    "    train = pd.merge(train, oof_df, on='Filename', how='left')\n",
    "\n",
    "    sub_df = pd.read_csv('../../output/sub_'+model_name+'.csv')\n",
    "    sub_df_east = sub_df.loc[sub_df.Id.str.contains('East')]\n",
    "    sub_df_east['Id'] = sub_df_east['Id'].apply(lambda x: x.split(':')[0])\n",
    "    sub_df_east.columns = ['Filename', model_name+'_east']\n",
    "    sub_df_north = sub_df.loc[sub_df.Id.str.contains('North')]\n",
    "    sub_df_north['Id'] = sub_df_north['Id'].apply(lambda x: x.split(':')[0])\n",
    "    sub_df_north.columns = ['Filename', model_name+'_north']\n",
    "    sub_df = pd.merge(sub_df_north, sub_df_east, on='Filename', how='left')\n",
    "    test = pd.merge(test, sub_df, on='Filename', how='left')\n"
   ]
  },
  {
   "cell_type": "code",
   "execution_count": null,
   "metadata": {},
   "outputs": [],
   "source": [
    "test.head()"
   ]
  },
  {
   "cell_type": "code",
   "execution_count": null,
   "metadata": {},
   "outputs": [],
   "source": [
    "train_columns = [col for col in train.columns if col not in ['Filename', 'North', 'East', 'fold', 'run_id', 'run_seq_id', 'Altitude', 'Delta']]"
   ]
  },
  {
   "cell_type": "code",
   "execution_count": null,
   "metadata": {},
   "outputs": [],
   "source": [
    "train = train.fillna(-999)"
   ]
  },
  {
   "cell_type": "code",
   "execution_count": null,
   "metadata": {},
   "outputs": [],
   "source": [
    "n_folds = 5\n",
    "\n",
    "north_oof_preds = np.zeros(len(train))\n",
    "east_oof_preds = np.zeros(len(train))\n",
    "\n",
    "north_test_preds = np.zeros(len(test))\n",
    "east_test_preds = np.zeros(len(test))\n",
    "\n",
    "targets = ['North', 'East']"
   ]
  },
  {
   "cell_type": "code",
   "execution_count": null,
   "metadata": {},
   "outputs": [],
   "source": [
    "%%time\n",
    "for target in targets:\n",
    "    y = train[target]\n",
    "    oof_preds = np.zeros(len(train))\n",
    "    test_preds_fold = np.zeros(len(test))\n",
    "    score_folds  = []\n",
    "\n",
    "    for fold_ in train.fold.sort_values().unique():\n",
    "        print(\"Fold: {}\".format(fold_))\n",
    "\n",
    "        trn_ = train.loc[train.fold != fold_].index\n",
    "        val_ = train.loc[train.fold == fold_].index\n",
    "\n",
    "        trn_x, trn_y = train.loc[trn_, train_columns], y.loc[trn_]\n",
    "        val_x, val_y = train.loc[val_, train_columns], y.loc[val_]\n",
    "        \n",
    "        execs = 1\n",
    "        preds = np.zeros(len(val_x))\n",
    "        test_preds_exec = np.zeros(len(test))\n",
    "        \n",
    "        for p in range(0,execs):\n",
    "            print(\"Iteration: {}\".format(p+1))\n",
    "            model = LinearRegression().fit(trn_x, trn_y)\n",
    "            preds += ((model.predict(val_x)) / execs)\n",
    "            test_preds_exec += ((model.predict(test[train_columns])) / execs)\n",
    "        test_preds_fold += (test_preds_exec / n_folds)\n",
    "        oof_preds[val_] = preds\n",
    "        score_folds.append(np.sqrt(mean_squared_error(val_y, preds)))\n",
    "        print(\"FOLD RMSE = {}\".format(np.sqrt(mean_squared_error(val_y, preds))))\n",
    "\n",
    "    print(\"############################################################\")\n",
    "    print(\"{} - MEAN RMSE = {}\".format(target, np.mean(score_folds)))\n",
    "    print(\"{} - OOF RMSE = {}\".format(target, np.sqrt(mean_squared_error(y, oof_preds))))\n",
    "    print(score_folds)\n",
    "\n",
    "    if target == 'North':\n",
    "        north_oof_preds = oof_preds\n",
    "        north_test_preds = test_preds_fold\n",
    "    else:\n",
    "        east_oof_preds = oof_preds\n",
    "        east_test_preds = test_preds_fold"
   ]
  },
  {
   "cell_type": "code",
   "execution_count": null,
   "metadata": {},
   "outputs": [],
   "source": [
    "all_preds = np.concatenate([north_oof_preds, east_oof_preds])\n",
    "all_target = np.concatenate([train.North, train.East])\n"
   ]
  },
  {
   "cell_type": "code",
   "execution_count": null,
   "metadata": {},
   "outputs": [],
   "source": [
    "print(\"ALL - OOF RMSE = {}\".format(np.sqrt(mean_squared_error(all_target, all_preds))))"
   ]
  },
  {
   "cell_type": "code",
   "execution_count": null,
   "metadata": {},
   "outputs": [],
   "source": [
    "sub_north_test = pd.DataFrame({\n",
    "    'Id': test.Filename,\n",
    "    'Predicted': north_test_preds\n",
    "})\n",
    "\n",
    "sub_east_test = pd.DataFrame({\n",
    "    'Id': test.Filename,\n",
    "    'Predicted': east_test_preds\n",
    "})"
   ]
  },
  {
   "cell_type": "code",
   "execution_count": null,
   "metadata": {},
   "outputs": [],
   "source": [
    "sub_north_test.Id = sub_north_test['Id'].astype(str) + ':North'\n",
    "sub_east_test.Id  = sub_east_test['Id'].astype(str) + ':East'\n",
    "\n",
    "sub_all_test = pd.concat([sub_north_test, sub_east_test])"
   ]
  },
  {
   "cell_type": "code",
   "execution_count": null,
   "metadata": {},
   "outputs": [],
   "source": [
    "sub_all_test[['Id', 'Predicted']].to_csv('../../output/stacking_lr_final.csv', index=False)"
   ]
  },
  {
   "cell_type": "code",
   "execution_count": null,
   "metadata": {},
   "outputs": [],
   "source": [
    "sub_all_test"
   ]
  },
  {
   "cell_type": "code",
   "execution_count": null,
   "metadata": {},
   "outputs": [],
   "source": []
  }
 ],
 "metadata": {
  "kernelspec": {
   "display_name": "Python 3",
   "language": "python",
   "name": "python3"
  },
  "language_info": {
   "codemirror_mode": {
    "name": "ipython",
    "version": 3
   },
   "file_extension": ".py",
   "mimetype": "text/x-python",
   "name": "python",
   "nbconvert_exporter": "python",
   "pygments_lexer": "ipython3",
   "version": "3.8.8"
  },
  "vscode": {
   "interpreter": {
    "hash": "0345ab29092b886eef8a43fa95a1d09d6609882eaf434e84db1e8f5ae4c120d2"
   }
  }
 },
 "nbformat": 4,
 "nbformat_minor": 4
}
